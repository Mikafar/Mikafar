{
  "nbformat": 4,
  "nbformat_minor": 0,
  "metadata": {
    "colab": {
      "provenance": [],
      "authorship_tag": "ABX9TyO+6bE3i1xsXPcKSO69HzqV",
      "include_colab_link": true
    },
    "kernelspec": {
      "name": "python3",
      "display_name": "Python 3"
    },
    "language_info": {
      "name": "python"
    }
  },
  "cells": [
    {
      "cell_type": "markdown",
      "metadata": {
        "id": "view-in-github",
        "colab_type": "text"
      },
      "source": [
        "<a href=\"https://colab.research.google.com/github/Mikafar/Mikafar/blob/main/230623_SE(HKPL).ipynb\" target=\"_parent\"><img src=\"https://colab.research.google.com/assets/colab-badge.svg\" alt=\"Open In Colab\"/></a>"
      ]
    },
    {
      "cell_type": "markdown",
      "source": [
        "# Notebook guideline\n",
        "\n",
        "```\n",
        "1. Installation\n",
        "  i. selenium & related packages\n",
        "  ii. chrome / other browsers\n",
        "\n",
        "2. Learning selenium\n",
        "  i. level 1 - scrape text & attribute value in element tag (ref. css selector cheatsheet)\n",
        "             - send text in input box and click button\n",
        "  ii. level 2 - use a loop to scrape text & attribute value in element tag\n",
        "  iii. level 3 - scrape contents using loop from page 1 to page you want to stop\n",
        "\n",
        "```"
      ],
      "metadata": {
        "id": "Z0MCIjuLRZHY"
      }
    },
    {
      "cell_type": "markdown",
      "source": [
        "Locating Elements:\n",
        "\n",
        "```\n",
        "<html>\n",
        " <body>\n",
        "  <form id=\"loginForm\">\n",
        "   <input name=\"username\" type=\"text\" />\n",
        "   <input name=\"password\" type=\"password\" />\n",
        "   <input name=\"continue\" type=\"submit\" value=\"Login\" />\n",
        "   <input name=\"continue\" type=\"button\" value=\"Clear\" />\n",
        "  </form>\n",
        "</body>\n",
        "</html>\n",
        "```\n",
        "\n",
        "```\n",
        "login_form = driver.find_element(By.ID, 'loginForm')\n",
        "\n",
        "username = driver.find_element(By.NAME, 'username')\n",
        "password = driver.find_element(By.NAME, 'password')\n",
        "```\n",
        "By.CSS_SELECTOR\n",
        "\n",
        "```\n",
        "<html>\n",
        " <body>\n",
        "  <p class=\"content\">Site content goes here.</p>\n",
        "</body>\n",
        "</html>\n",
        "```\n",
        "\n",
        "```\n",
        "content = driver.find_element(By.CSS_SELECTOR, 'p.content')\n",
        "```"
      ],
      "metadata": {
        "id": "N2CBrOQ4Wjo0"
      }
    },
    {
      "cell_type": "markdown",
      "source": [
        "After locating the elements, how to find **text in element tag**:\n",
        "\n",
        "```\n",
        "<ol id=\"vegetables\">\n",
        " <li class=\"potatoes\">…\n",
        " <li class=\"onions\">…\n",
        " <li class=\"tomatoes\"><span>Tomato is a Vegetable</span>…\n",
        "</ol>\n",
        "<ul id=\"fruits\">\n",
        "  <li class=\"bananas\">…\n",
        "  <li class=\"apples\">…\n",
        "  <li class=\"tomatoes\"><span>Tomato is a Fruit</span>…\n",
        "</ul>\n",
        "\n",
        "\n",
        "```\n",
        "find the first matching element:\n",
        "```\n",
        "elem = driver.find_element(By.CLASS_NAME, 'tomatoes')\n",
        "elem.text\n",
        "```\n",
        "find all the matching elements:\n",
        "```\n",
        "elem = driver.find_elements(By.CLASS_NAME, 'tomatoes')\n",
        "elem[i].text\n",
        "```"
      ],
      "metadata": {
        "id": "Ye4_JvUyUCK6"
      }
    },
    {
      "cell_type": "markdown",
      "source": [
        "For **attribute value in element tag**:\n",
        "\n",
        "```\n",
        "elem.get_attribute()\n",
        "```\n",
        "\n",
        "Your note:"
      ],
      "metadata": {
        "id": "tf8Gs6uZVI8-"
      }
    },
    {
      "cell_type": "markdown",
      "source": [
        "# Installation"
      ],
      "metadata": {
        "id": "y6q4LMH5Nlwr"
      }
    },
    {
      "cell_type": "code",
      "source": [
        "! pip install selenium"
      ],
      "metadata": {
        "id": "3Yh6DBDSYUae"
      },
      "execution_count": null,
      "outputs": []
    },
    {
      "cell_type": "code",
      "source": [
        "! apt-get install chromium chromium-driver"
      ],
      "metadata": {
        "id": "PGARIxrGYW2-"
      },
      "execution_count": null,
      "outputs": []
    },
    {
      "cell_type": "code",
      "source": [
        "# ! pip install webdriver-manager"
      ],
      "metadata": {
        "id": "2Te6rC_BNMTU"
      },
      "execution_count": 3,
      "outputs": []
    },
    {
      "cell_type": "code",
      "execution_count": null,
      "metadata": {
        "id": "xmokfKhjYO4y"
      },
      "outputs": [],
      "source": [
        "! apt-get install wget"
      ]
    },
    {
      "cell_type": "code",
      "source": [
        "# install google chrome\n",
        "! wget https://dl.google.com/linux/direct/google-chrome-stable_current_amd64.deb"
      ],
      "metadata": {
        "id": "WFAxslYuYS5Z"
      },
      "execution_count": null,
      "outputs": []
    },
    {
      "cell_type": "code",
      "source": [
        "! dpkg -i google-chrome-stable_current_amd64.deb"
      ],
      "metadata": {
        "id": "nf3RUwnzYiF7"
      },
      "execution_count": null,
      "outputs": []
    },
    {
      "cell_type": "code",
      "source": [
        "from selenium import webdriver\n",
        "from selenium.webdriver.chrome.options import Options\n",
        "from selenium.webdriver.common.by import By\n",
        "\n",
        "# from selenium.webdriver.chrome.service import Service as ChromeService\n",
        "# from webdriver_manager.chrome import ChromeDriverManager"
      ],
      "metadata": {
        "id": "yw7cUWYaYts9"
      },
      "execution_count": 7,
      "outputs": []
    },
    {
      "cell_type": "code",
      "source": [
        "options = Options()\n",
        "options.add_argument(\"--headless\")\n",
        "options.add_argument(\"--no-sandbox\")\n",
        "\n",
        "# options.headless = True\n",
        "\n",
        "driver = webdriver.Chrome(options=options)\n",
        "# driver = webdriver.Chrome(service=ChromeService(ChromeDriverManager().install()))"
      ],
      "metadata": {
        "id": "5xYyjC9EYyNB",
        "colab": {
          "base_uri": "https://localhost:8080/"
        },
        "outputId": "6d4a13f4-6971-4088-87e6-4410d42cb582"
      },
      "execution_count": 8,
      "outputs": [
        {
          "output_type": "stream",
          "name": "stderr",
          "text": [
            "WARNING:selenium.webdriver.common.selenium_manager:The version of chrome cannot be detected. Trying with latest driver version\n"
          ]
        }
      ]
    },
    {
      "cell_type": "code",
      "source": [
        "url = \"https://webcat.hkpl.gov.hk/search/query?theme=WEB\"\n",
        "driver.get(url)"
      ],
      "metadata": {
        "id": "7qCTN3uzYzvh"
      },
      "execution_count": 9,
      "outputs": []
    },
    {
      "cell_type": "code",
      "source": [
        "# print(driver.title)"
      ],
      "metadata": {
        "id": "QUFvahCeY3D7"
      },
      "execution_count": null,
      "outputs": []
    },
    {
      "cell_type": "code",
      "source": [
        "bk_name = driver.find_elements(By.CSS_SELECTOR, 'div.recordHighlight > a')"
      ],
      "metadata": {
        "id": "jpgVy2HZybWJ"
      },
      "execution_count": 10,
      "outputs": []
    },
    {
      "cell_type": "code",
      "source": [
        "bk_name[0].text"
      ],
      "metadata": {
        "id": "06tNQC8PCtFT"
      },
      "execution_count": null,
      "outputs": []
    },
    {
      "cell_type": "markdown",
      "source": [
        "## Interacting with the page"
      ],
      "metadata": {
        "id": "xZ1semx5DR2F"
      }
    },
    {
      "cell_type": "markdown",
      "source": [
        "WebDriver offers a number of ways to find elements. For example, given an element defined as:\n",
        "\n",
        "```\n",
        "<input type=\"text\" name=\"passwd\" id=\"passwd-id\" />\n",
        "```\n",
        "\n",
        "you could find it using any of:\n",
        "\n",
        "```\n",
        "element = driver.find_element(By.ID, \"passwd-id\")\n",
        "element = driver.find_element(By.NAME, \"passwd\")\n",
        "element = driver.find_element(By.CSS_SELECTOR, \"input#passwd-id\")\n",
        "```\n",
        "\n",
        "To enter some text into a text field:\n",
        "\n",
        "```\n",
        "element.clear()\n",
        "element.send_keys(\"some text\")\n",
        "```\n",
        "\n"
      ],
      "metadata": {
        "id": "QAyALZlMDoEA"
      }
    },
    {
      "cell_type": "markdown",
      "source": [
        "**Exercise:** input a text in the search box\n",
        "\n",
        "`\n",
        "<input type=\"text\" maxlength=\"250\" size=\"50\" value=\"\" name=\"query\" id=\"id6f1\" autocomplete=\"off\" placeholder=\"檢索\" class=\"__safly_input_chrome __safly_input_ms\">\n",
        "`"
      ],
      "metadata": {
        "id": "BT35_DiPEMrL"
      }
    },
    {
      "cell_type": "code",
      "source": [
        "driver.find_element(By.NAME, 'query').get_attribute('name')"
      ],
      "metadata": {
        "colab": {
          "base_uri": "https://localhost:8080/",
          "height": 35
        },
        "id": "yMVtxcahJ0S9",
        "outputId": "f6475718-57e5-48ee-a2f4-bc9a050d0a39"
      },
      "execution_count": 14,
      "outputs": [
        {
          "output_type": "execute_result",
          "data": {
            "text/plain": [
              "'query'"
            ],
            "application/vnd.google.colaboratory.intrinsic+json": {
              "type": "string"
            }
          },
          "metadata": {},
          "execution_count": 14
        }
      ]
    },
    {
      "cell_type": "code",
      "source": [
        "input_elem=driver.find_element(By.NAME, 'query')"
      ],
      "metadata": {
        "id": "YUDcqskXDxp1"
      },
      "execution_count": 15,
      "outputs": []
    },
    {
      "cell_type": "code",
      "source": [
        "input_elem.clear()"
      ],
      "metadata": {
        "id": "cjZRqR9SJS_4"
      },
      "execution_count": 22,
      "outputs": []
    },
    {
      "cell_type": "code",
      "source": [
        "input_elem.send_keys('python')"
      ],
      "metadata": {
        "id": "DgbgZyODDhjY"
      },
      "execution_count": 23,
      "outputs": []
    },
    {
      "cell_type": "code",
      "source": [
        "# double check the input box\n",
        "driver.find_element(By.NAME, 'query').get_attribute('value')"
      ],
      "metadata": {
        "colab": {
          "base_uri": "https://localhost:8080/",
          "height": 35
        },
        "id": "L3VqP_xkGIS6",
        "outputId": "43ae847b-4837-4978-e564-87653122a344"
      },
      "execution_count": 24,
      "outputs": [
        {
          "output_type": "execute_result",
          "data": {
            "text/plain": [
              "'python'"
            ],
            "application/vnd.google.colaboratory.intrinsic+json": {
              "type": "string"
            }
          },
          "metadata": {},
          "execution_count": 24
        }
      ]
    },
    {
      "cell_type": "markdown",
      "source": [
        "**double check the text in the search box and click Enter:**\n",
        "\n",
        "`\n",
        "<input type=\"text\" maxlength=\"250\" size=\"50\" value=\"data science\" name=\"query\" id=\"id38\" autocomplete=\"off\" placeholder=\"檢索\" class=\"__safly_input_chrome __safly_input_ms\">\n",
        "`"
      ],
      "metadata": {
        "id": "OggMu2ZUDRgx"
      }
    },
    {
      "cell_type": "code",
      "source": [
        "butt_elem = driver.find_element(By.CSS_SELECTOR,'div.quicksearch-panel > input.button')"
      ],
      "metadata": {
        "id": "htdM8O4HLYRc"
      },
      "execution_count": 25,
      "outputs": []
    },
    {
      "cell_type": "code",
      "source": [
        "butt_elem.click()"
      ],
      "metadata": {
        "id": "8SNJ1RUUMPYx"
      },
      "execution_count": 26,
      "outputs": []
    },
    {
      "cell_type": "code",
      "source": [
        "bk_name = driver.find_elements(By.CSS_SELECTOR, 'div.recordHighlight > a')\n",
        "bk_name[0].text"
      ],
      "metadata": {
        "colab": {
          "base_uri": "https://localhost:8080/",
          "height": 35
        },
        "id": "zhvRO4UGFMaF",
        "outputId": "702c43eb-25e5-4efe-8392-8323c8707166"
      },
      "execution_count": 27,
      "outputs": [
        {
          "output_type": "execute_result",
          "data": {
            "text/plain": [
              "'Starting out with Python / Tony Gaddis.'"
            ],
            "application/vnd.google.colaboratory.intrinsic+json": {
              "type": "string"
            }
          },
          "metadata": {},
          "execution_count": 27
        }
      ]
    },
    {
      "cell_type": "markdown",
      "source": [
        "**Exercise:** Loop all the orders, book names and isbn numbers in the first page"
      ],
      "metadata": {
        "id": "u9rMtJYTRQQA"
      }
    },
    {
      "cell_type": "code",
      "source": [
        "all_bk_elems = driver.find_element(By.CSS_SELECTOR, 'ul.records')"
      ],
      "metadata": {
        "id": "nW2h9lObROUB"
      },
      "execution_count": 28,
      "outputs": []
    },
    {
      "cell_type": "code",
      "source": [
        "lis = all_bk_elems.find_elements(By.CSS_SELECTOR, 'li.record')"
      ],
      "metadata": {
        "id": "kWrj7usIVNRj"
      },
      "execution_count": 29,
      "outputs": []
    },
    {
      "cell_type": "code",
      "source": [
        "len(lis)"
      ],
      "metadata": {
        "id": "UEmI_YgxVgEM"
      },
      "execution_count": null,
      "outputs": []
    },
    {
      "cell_type": "code",
      "source": [
        "bklist=[]\n",
        "\n",
        "for li in lis:\n",
        "  num = li.find_element(By.CSS_SELECTOR, 'div.recordNumber > div').text\n",
        "  bk_name = li.find_element(By.CSS_SELECTOR, 'div.recordHighlight > a.title').text\n",
        "  bklist.append([num, bk_name])\n",
        "\n",
        "print(bklist)\n"
      ],
      "metadata": {
        "id": "MG7ZYdyIVoHR"
      },
      "execution_count": null,
      "outputs": []
    },
    {
      "cell_type": "markdown",
      "source": [
        "\n",
        "**Exercise:** Scrape from page 1 to page that you want to stop"
      ],
      "metadata": {
        "id": "RkTtwIU6RcH0"
      }
    },
    {
      "cell_type": "code",
      "source": [
        "booklist = []\n",
        "\n",
        "for page in range(1,4,1):\n",
        "  url = \"https://webcat.hkpl.gov.hk/search/query?match_1=MUST&field_1&term_1=python&sort=relevance&pageNumber=\" +str(page)+ \"&theme=WEB\"\n",
        "  driver.get(url)\n",
        "\n",
        "  ul = driver.find_element(By.CSS_SELECTOR, 'ul.records')\n",
        "  num = ul.find_elements(By.CSS_SELECTOR, 'li.record > div.recordNumber div:first-child')\n",
        "  isbn = ul.find_elements(By.CSS_SELECTOR, 'div[data-isbn]')\n",
        "  name = ul.find_elements(By.CSS_SELECTOR, 'div.recordHighlight > a.title')\n",
        "  # print(len(num), len(name), len(isbn))\n",
        "\n",
        "  for i in range(len(name)):\n",
        "    booklist.append([num[i].text, isbn[i].get_attribute('data-isbn'), name[i].text])\n",
        "\n",
        "print(booklist)"
      ],
      "metadata": {
        "id": "J2z2hnVsRjgn"
      },
      "execution_count": null,
      "outputs": []
    },
    {
      "cell_type": "code",
      "source": [
        "driver.close()"
      ],
      "metadata": {
        "id": "6mg1eGxzbsrb"
      },
      "execution_count": null,
      "outputs": []
    },
    {
      "cell_type": "markdown",
      "source": [
        "## Put the list into a Data Frame"
      ],
      "metadata": {
        "id": "UUzQecplCPAO"
      }
    },
    {
      "cell_type": "code",
      "source": [
        "! pip install pandas"
      ],
      "metadata": {
        "colab": {
          "base_uri": "https://localhost:8080/"
        },
        "id": "UNCqEctxH-Zr",
        "outputId": "67559ac8-2f82-49e4-fa35-82d6f105d067"
      },
      "execution_count": null,
      "outputs": [
        {
          "output_type": "stream",
          "name": "stdout",
          "text": [
            "Looking in indexes: https://pypi.org/simple, https://us-python.pkg.dev/colab-wheels/public/simple/\n",
            "Requirement already satisfied: pandas in /usr/local/lib/python3.10/dist-packages (1.5.3)\n",
            "Requirement already satisfied: python-dateutil>=2.8.1 in /usr/local/lib/python3.10/dist-packages (from pandas) (2.8.2)\n",
            "Requirement already satisfied: pytz>=2020.1 in /usr/local/lib/python3.10/dist-packages (from pandas) (2022.7.1)\n",
            "Requirement already satisfied: numpy>=1.21.0 in /usr/local/lib/python3.10/dist-packages (from pandas) (1.22.4)\n",
            "Requirement already satisfied: six>=1.5 in /usr/local/lib/python3.10/dist-packages (from python-dateutil>=2.8.1->pandas) (1.16.0)\n"
          ]
        }
      ]
    },
    {
      "cell_type": "code",
      "source": [
        "import pandas as pd"
      ],
      "metadata": {
        "id": "-pCqjB9YcCPc"
      },
      "execution_count": null,
      "outputs": []
    },
    {
      "cell_type": "code",
      "source": [
        "hkpldf = pd.DataFrame(booklist, columns=['no.', 'isbn', 'name'])"
      ],
      "metadata": {
        "id": "TkdxBO-PJadw"
      },
      "execution_count": null,
      "outputs": []
    },
    {
      "cell_type": "code",
      "source": [
        "hkpldf"
      ],
      "metadata": {
        "id": "9VQlthX-JnP2"
      },
      "execution_count": null,
      "outputs": []
    },
    {
      "cell_type": "markdown",
      "source": [
        "**Exercise:** Split the book name and its author into two columns."
      ],
      "metadata": {
        "id": "akXivlp_Jt-x"
      }
    },
    {
      "cell_type": "code",
      "source": [
        "# Your code:"
      ],
      "metadata": {
        "id": "bVssxRBlJoxF"
      },
      "execution_count": null,
      "outputs": []
    },
    {
      "cell_type": "markdown",
      "source": [
        "# Ref. links"
      ],
      "metadata": {
        "id": "LA7JzKy6NrcD"
      }
    },
    {
      "cell_type": "code",
      "source": [
        "# https://blog.testproject.io/2021/05/06/css-selectors-cheat-sheet/"
      ],
      "metadata": {
        "id": "F8QwfLXhNtsY"
      },
      "execution_count": null,
      "outputs": []
    }
  ]
}