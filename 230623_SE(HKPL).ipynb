{
  "nbformat": 4,
  "nbformat_minor": 0,
  "metadata": {
    "colab": {
      "provenance": [],
      "authorship_tag": "ABX9TyPoF+Hs5cuyn8dkg3PtAfEi",
      "include_colab_link": true
    },
    "kernelspec": {
      "name": "python3",
      "display_name": "Python 3"
    },
    "language_info": {
      "name": "python"
    }
  },
  "cells": [
    {
      "cell_type": "markdown",
      "metadata": {
        "id": "view-in-github",
        "colab_type": "text"
      },
      "source": [
        "<a href=\"https://colab.research.google.com/github/Mikafar/Mikafar/blob/main/230623_SE(HKPL).ipynb\" target=\"_parent\"><img src=\"https://colab.research.google.com/assets/colab-badge.svg\" alt=\"Open In Colab\"/></a>"
      ]
    },
    {
      "cell_type": "code",
      "source": [
        "! pip install selenium"
      ],
      "metadata": {
        "id": "3Yh6DBDSYUae",
        "colab": {
          "base_uri": "https://localhost:8080/"
        },
        "outputId": "a6278d54-3ea4-4d7c-fbbe-69c0fea37296"
      },
      "execution_count": 1,
      "outputs": [
        {
          "output_type": "stream",
          "name": "stdout",
          "text": [
            "Looking in indexes: https://pypi.org/simple, https://us-python.pkg.dev/colab-wheels/public/simple/\n",
            "Collecting selenium\n",
            "  Downloading selenium-4.10.0-py3-none-any.whl (6.7 MB)\n",
            "\u001b[2K     \u001b[90m━━━━━━━━━━━━━━━━━━━━━━━━━━━━━━━━━━━━━━━━\u001b[0m \u001b[32m6.7/6.7 MB\u001b[0m \u001b[31m44.8 MB/s\u001b[0m eta \u001b[36m0:00:00\u001b[0m\n",
            "\u001b[?25hRequirement already satisfied: urllib3[socks]<3,>=1.26 in /usr/local/lib/python3.10/dist-packages (from selenium) (1.26.15)\n",
            "Collecting trio~=0.17 (from selenium)\n",
            "  Downloading trio-0.22.0-py3-none-any.whl (384 kB)\n",
            "\u001b[2K     \u001b[90m━━━━━━━━━━━━━━━━━━━━━━━━━━━━━━━━━━━━━━\u001b[0m \u001b[32m384.9/384.9 kB\u001b[0m \u001b[31m16.4 MB/s\u001b[0m eta \u001b[36m0:00:00\u001b[0m\n",
            "\u001b[?25hCollecting trio-websocket~=0.9 (from selenium)\n",
            "  Downloading trio_websocket-0.10.3-py3-none-any.whl (17 kB)\n",
            "Requirement already satisfied: certifi>=2021.10.8 in /usr/local/lib/python3.10/dist-packages (from selenium) (2022.12.7)\n",
            "Requirement already satisfied: attrs>=19.2.0 in /usr/local/lib/python3.10/dist-packages (from trio~=0.17->selenium) (23.1.0)\n",
            "Requirement already satisfied: sortedcontainers in /usr/local/lib/python3.10/dist-packages (from trio~=0.17->selenium) (2.4.0)\n",
            "Collecting async-generator>=1.9 (from trio~=0.17->selenium)\n",
            "  Downloading async_generator-1.10-py3-none-any.whl (18 kB)\n",
            "Requirement already satisfied: idna in /usr/local/lib/python3.10/dist-packages (from trio~=0.17->selenium) (3.4)\n",
            "Collecting outcome (from trio~=0.17->selenium)\n",
            "  Downloading outcome-1.2.0-py2.py3-none-any.whl (9.7 kB)\n",
            "Requirement already satisfied: sniffio in /usr/local/lib/python3.10/dist-packages (from trio~=0.17->selenium) (1.3.0)\n",
            "Requirement already satisfied: exceptiongroup>=1.0.0rc9 in /usr/local/lib/python3.10/dist-packages (from trio~=0.17->selenium) (1.1.1)\n",
            "Collecting wsproto>=0.14 (from trio-websocket~=0.9->selenium)\n",
            "  Downloading wsproto-1.2.0-py3-none-any.whl (24 kB)\n",
            "Requirement already satisfied: PySocks!=1.5.7,<2.0,>=1.5.6 in /usr/local/lib/python3.10/dist-packages (from urllib3[socks]<3,>=1.26->selenium) (1.7.1)\n",
            "Collecting h11<1,>=0.9.0 (from wsproto>=0.14->trio-websocket~=0.9->selenium)\n",
            "  Downloading h11-0.14.0-py3-none-any.whl (58 kB)\n",
            "\u001b[2K     \u001b[90m━━━━━━━━━━━━━━━━━━━━━━━━━━━━━━━━━━━━━━━━\u001b[0m \u001b[32m58.3/58.3 kB\u001b[0m \u001b[31m5.5 MB/s\u001b[0m eta \u001b[36m0:00:00\u001b[0m\n",
            "\u001b[?25hInstalling collected packages: outcome, h11, async-generator, wsproto, trio, trio-websocket, selenium\n",
            "Successfully installed async-generator-1.10 h11-0.14.0 outcome-1.2.0 selenium-4.10.0 trio-0.22.0 trio-websocket-0.10.3 wsproto-1.2.0\n"
          ]
        }
      ]
    },
    {
      "cell_type": "code",
      "source": [
        "! apt-get install chromium chromium-driver"
      ],
      "metadata": {
        "id": "PGARIxrGYW2-",
        "colab": {
          "base_uri": "https://localhost:8080/"
        },
        "outputId": "21ebd2d8-87a7-479a-a815-b8ca121402db"
      },
      "execution_count": 2,
      "outputs": [
        {
          "output_type": "stream",
          "name": "stdout",
          "text": [
            "Reading package lists... Done\n",
            "Building dependency tree       \n",
            "Reading state information... Done\n",
            "Note, selecting 'chromium-chromedriver' instead of 'chromium-driver'\n",
            "Package chromium is not available, but is referred to by another package.\n",
            "This may mean that the package is missing, has been obsoleted, or\n",
            "is only available from another source\n",
            "However the following packages replace it:\n",
            "  chromium-bsu\n",
            "\n",
            "E: Package 'chromium' has no installation candidate\n"
          ]
        }
      ]
    },
    {
      "cell_type": "code",
      "source": [
        "# ! pip install webdriver-manager"
      ],
      "metadata": {
        "id": "2Te6rC_BNMTU"
      },
      "execution_count": null,
      "outputs": []
    },
    {
      "cell_type": "code",
      "execution_count": null,
      "metadata": {
        "id": "xmokfKhjYO4y"
      },
      "outputs": [],
      "source": [
        "! apt-get install wget"
      ]
    },
    {
      "cell_type": "code",
      "source": [
        "# install google chrome\n",
        "! wget https://dl.google.com/linux/direct/google-chrome-stable_current_amd64.deb"
      ],
      "metadata": {
        "id": "WFAxslYuYS5Z"
      },
      "execution_count": null,
      "outputs": []
    },
    {
      "cell_type": "code",
      "source": [
        "! dpkg -i google-chrome-stable_current_amd64.deb"
      ],
      "metadata": {
        "id": "nf3RUwnzYiF7"
      },
      "execution_count": null,
      "outputs": []
    },
    {
      "cell_type": "code",
      "source": [
        "! sudo apt-get install -f"
      ],
      "metadata": {
        "id": "T5PnfWV3YlzA"
      },
      "execution_count": null,
      "outputs": []
    },
    {
      "cell_type": "code",
      "source": [
        "from selenium import webdriver\n",
        "from selenium.webdriver.chrome.options import Options\n",
        "from selenium.webdriver.common.by import By\n",
        "\n",
        "\n",
        "# from selenium.webdriver.chrome.service import Service as ChromeService\n",
        "# from webdriver_manager.chrome import ChromeDriverManager"
      ],
      "metadata": {
        "id": "yw7cUWYaYts9"
      },
      "execution_count": 5,
      "outputs": []
    },
    {
      "cell_type": "code",
      "source": [
        "options = Options()\n",
        "options.add_argument(\"--headless\")\n",
        "options.add_argument(\"--no-sandbox\")\n",
        "\n",
        "# options.headless = True\n",
        "\n",
        "driver = webdriver.Chrome(options=options)\n",
        "# driver = webdriver.Chrome(service=ChromeService(ChromeDriverManager().install()))"
      ],
      "metadata": {
        "id": "5xYyjC9EYyNB",
        "colab": {
          "base_uri": "https://localhost:8080/"
        },
        "outputId": "9c3e60da-b4fa-4c7c-e79f-577e780db863"
      },
      "execution_count": 8,
      "outputs": [
        {
          "output_type": "stream",
          "name": "stderr",
          "text": [
            "WARNING:selenium.webdriver.common.selenium_manager:The version of chrome cannot be detected. Trying with latest driver version\n"
          ]
        }
      ]
    },
    {
      "cell_type": "code",
      "source": [
        "url = \"https://webcat.hkpl.gov.hk/search/query?term_1=data+science&theme=WEB\"\n",
        "driver.get(url)"
      ],
      "metadata": {
        "id": "7qCTN3uzYzvh"
      },
      "execution_count": 9,
      "outputs": []
    },
    {
      "cell_type": "code",
      "source": [
        "# print(driver.title)"
      ],
      "metadata": {
        "id": "QUFvahCeY3D7"
      },
      "execution_count": null,
      "outputs": []
    },
    {
      "cell_type": "code",
      "source": [
        "bk_name = driver.find_elements(By.CSS_SELECTOR, 'div.recordHighlight > a')"
      ],
      "metadata": {
        "id": "jpgVy2HZybWJ"
      },
      "execution_count": 10,
      "outputs": []
    },
    {
      "cell_type": "code",
      "source": [
        "bk_name[0].text"
      ],
      "metadata": {
        "colab": {
          "base_uri": "https://localhost:8080/",
          "height": 36
        },
        "id": "06tNQC8PCtFT",
        "outputId": "92527f74-497a-4aa1-a632-b62e399fa5d5"
      },
      "execution_count": 11,
      "outputs": [
        {
          "output_type": "execute_result",
          "data": {
            "text/plain": [
              "'Measurement and data science / Gábor Péceli.'"
            ],
            "application/vnd.google.colaboratory.intrinsic+json": {
              "type": "string"
            }
          },
          "metadata": {},
          "execution_count": 11
        }
      ]
    },
    {
      "cell_type": "markdown",
      "source": [
        "## Interacting with the page"
      ],
      "metadata": {
        "id": "xZ1semx5DR2F"
      }
    },
    {
      "cell_type": "markdown",
      "source": [
        "WebDriver offers a number of ways to find elements. For example, given an element defined as:\n",
        "\n",
        "```\n",
        "<input type=\"text\" name=\"passwd\" id=\"passwd-id\" />\n",
        "```\n",
        "\n",
        "you could find it using any of:\n",
        "\n",
        "```\n",
        "element = driver.find_element(By.ID, \"passwd-id\")\n",
        "element = driver.find_element(By.NAME, \"passwd\")\n",
        "element = driver.find_element(By.CSS_SELECTOR, \"input#passwd-id\")\n",
        "```\n",
        "\n",
        "To enter some text into a text field:\n",
        "\n",
        "```\n",
        "element.clear()\n",
        "element.send_keys(\"some text\")\n",
        "```\n",
        "\n"
      ],
      "metadata": {
        "id": "QAyALZlMDoEA"
      }
    },
    {
      "cell_type": "markdown",
      "source": [
        "`\n",
        "<input type=\"text\" maxlength=\"250\" size=\"50\" value=\"data science\" name=\"query\" id=\"id397\" autocomplete=\"off\" placeholder=\"Search\" class=\"__safly_input_chrome __safly_input_ms\">\n",
        "`"
      ],
      "metadata": {
        "id": "BT35_DiPEMrL"
      }
    },
    {
      "cell_type": "code",
      "source": [
        "driver.find_element(By.NAME, 'query').get_attribute('name')"
      ],
      "metadata": {
        "colab": {
          "base_uri": "https://localhost:8080/",
          "height": 36
        },
        "id": "yMVtxcahJ0S9",
        "outputId": "053bb16f-369d-4610-9630-25e3422e3214"
      },
      "execution_count": 84,
      "outputs": [
        {
          "output_type": "execute_result",
          "data": {
            "text/plain": [
              "'query'"
            ],
            "application/vnd.google.colaboratory.intrinsic+json": {
              "type": "string"
            }
          },
          "metadata": {},
          "execution_count": 84
        }
      ]
    },
    {
      "cell_type": "code",
      "source": [
        "input_elem=driver.find_element(By.NAME, 'query')"
      ],
      "metadata": {
        "id": "YUDcqskXDxp1"
      },
      "execution_count": 12,
      "outputs": []
    },
    {
      "cell_type": "code",
      "source": [
        "input_elem.clear()"
      ],
      "metadata": {
        "id": "cjZRqR9SJS_4"
      },
      "execution_count": 13,
      "outputs": []
    },
    {
      "cell_type": "code",
      "source": [
        "input_elem.send_keys('python')"
      ],
      "metadata": {
        "id": "DgbgZyODDhjY"
      },
      "execution_count": 14,
      "outputs": []
    },
    {
      "cell_type": "code",
      "source": [
        "butt_elem = driver.find_element(By.CSS_SELECTOR,'div.quicksearch-panel > input.button')"
      ],
      "metadata": {
        "id": "htdM8O4HLYRc"
      },
      "execution_count": 15,
      "outputs": []
    },
    {
      "cell_type": "code",
      "source": [
        "butt_elem.click()"
      ],
      "metadata": {
        "id": "8SNJ1RUUMPYx"
      },
      "execution_count": 16,
      "outputs": []
    },
    {
      "cell_type": "code",
      "source": [
        "bk_name = driver.find_elements(By.CSS_SELECTOR, 'div.recordHighlight > a')\n",
        "bk_name[0].text"
      ],
      "metadata": {
        "colab": {
          "base_uri": "https://localhost:8080/",
          "height": 36
        },
        "id": "zhvRO4UGFMaF",
        "outputId": "5fd814b2-48fb-43ca-ebf4-5a577fd40a57"
      },
      "execution_count": 17,
      "outputs": [
        {
          "output_type": "execute_result",
          "data": {
            "text/plain": [
              "'Starting out with Python / Tony Gaddis.'"
            ],
            "application/vnd.google.colaboratory.intrinsic+json": {
              "type": "string"
            }
          },
          "metadata": {},
          "execution_count": 17
        }
      ]
    },
    {
      "cell_type": "code",
      "source": [],
      "metadata": {
        "id": "L3VqP_xkGIS6"
      },
      "execution_count": null,
      "outputs": []
    }
  ]
}