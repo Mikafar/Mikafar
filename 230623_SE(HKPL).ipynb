{
  "nbformat": 4,
  "nbformat_minor": 0,
  "metadata": {
    "colab": {
      "provenance": [],
      "authorship_tag": "ABX9TyNMNKEqWzBXvBSsXXUGCGPU",
      "include_colab_link": true
    },
    "kernelspec": {
      "name": "python3",
      "display_name": "Python 3"
    },
    "language_info": {
      "name": "python"
    }
  },
  "cells": [
    {
      "cell_type": "markdown",
      "metadata": {
        "id": "view-in-github",
        "colab_type": "text"
      },
      "source": [
        "<a href=\"https://colab.research.google.com/github/Mikafar/Mikafar/blob/main/230623_SE(HKPL).ipynb\" target=\"_parent\"><img src=\"https://colab.research.google.com/assets/colab-badge.svg\" alt=\"Open In Colab\"/></a>"
      ]
    },
    {
      "cell_type": "code",
      "source": [
        "! pip install selenium"
      ],
      "metadata": {
        "id": "3Yh6DBDSYUae"
      },
      "execution_count": null,
      "outputs": []
    },
    {
      "cell_type": "code",
      "source": [
        "! apt-get install chromium chromium-driver"
      ],
      "metadata": {
        "id": "PGARIxrGYW2-"
      },
      "execution_count": null,
      "outputs": []
    },
    {
      "cell_type": "code",
      "source": [
        "# ! pip install webdriver-manager"
      ],
      "metadata": {
        "id": "2Te6rC_BNMTU"
      },
      "execution_count": null,
      "outputs": []
    },
    {
      "cell_type": "code",
      "execution_count": null,
      "metadata": {
        "id": "xmokfKhjYO4y"
      },
      "outputs": [],
      "source": [
        "! apt-get install wget"
      ]
    },
    {
      "cell_type": "code",
      "source": [
        "# install google chrome\n",
        "! wget https://dl.google.com/linux/direct/google-chrome-stable_current_amd64.deb"
      ],
      "metadata": {
        "id": "WFAxslYuYS5Z"
      },
      "execution_count": null,
      "outputs": []
    },
    {
      "cell_type": "code",
      "source": [
        "! dpkg -i google-chrome-stable_current_amd64.deb"
      ],
      "metadata": {
        "id": "nf3RUwnzYiF7"
      },
      "execution_count": null,
      "outputs": []
    },
    {
      "cell_type": "code",
      "source": [
        "from selenium import webdriver\n",
        "from selenium.webdriver.chrome.options import Options\n",
        "from selenium.webdriver.common.by import By\n",
        "\n",
        "# from selenium.webdriver.chrome.service import Service as ChromeService\n",
        "# from webdriver_manager.chrome import ChromeDriverManager"
      ],
      "metadata": {
        "id": "yw7cUWYaYts9"
      },
      "execution_count": 5,
      "outputs": []
    },
    {
      "cell_type": "code",
      "source": [
        "options = Options()\n",
        "options.add_argument(\"--headless\")\n",
        "options.add_argument(\"--no-sandbox\")\n",
        "\n",
        "# options.headless = True\n",
        "\n",
        "driver = webdriver.Chrome(options=options)\n",
        "# driver = webdriver.Chrome(service=ChromeService(ChromeDriverManager().install()))"
      ],
      "metadata": {
        "id": "5xYyjC9EYyNB",
        "colab": {
          "base_uri": "https://localhost:8080/"
        },
        "outputId": "9c3e60da-b4fa-4c7c-e79f-577e780db863"
      },
      "execution_count": 8,
      "outputs": [
        {
          "output_type": "stream",
          "name": "stderr",
          "text": [
            "WARNING:selenium.webdriver.common.selenium_manager:The version of chrome cannot be detected. Trying with latest driver version\n"
          ]
        }
      ]
    },
    {
      "cell_type": "code",
      "source": [
        "url = \"https://webcat.hkpl.gov.hk/search/query?term_1=data+science&theme=WEB\"\n",
        "driver.get(url)"
      ],
      "metadata": {
        "id": "7qCTN3uzYzvh"
      },
      "execution_count": 19,
      "outputs": []
    },
    {
      "cell_type": "code",
      "source": [
        "# print(driver.title)"
      ],
      "metadata": {
        "id": "QUFvahCeY3D7"
      },
      "execution_count": null,
      "outputs": []
    },
    {
      "cell_type": "code",
      "source": [
        "bk_name = driver.find_elements(By.CSS_SELECTOR, 'div.recordHighlight > a')"
      ],
      "metadata": {
        "id": "jpgVy2HZybWJ"
      },
      "execution_count": 10,
      "outputs": []
    },
    {
      "cell_type": "code",
      "source": [
        "bk_name[0].text"
      ],
      "metadata": {
        "colab": {
          "base_uri": "https://localhost:8080/",
          "height": 36
        },
        "id": "06tNQC8PCtFT",
        "outputId": "92527f74-497a-4aa1-a632-b62e399fa5d5"
      },
      "execution_count": 11,
      "outputs": [
        {
          "output_type": "execute_result",
          "data": {
            "text/plain": [
              "'Measurement and data science / Gábor Péceli.'"
            ],
            "application/vnd.google.colaboratory.intrinsic+json": {
              "type": "string"
            }
          },
          "metadata": {},
          "execution_count": 11
        }
      ]
    },
    {
      "cell_type": "markdown",
      "source": [
        "## Interacting with the page"
      ],
      "metadata": {
        "id": "xZ1semx5DR2F"
      }
    },
    {
      "cell_type": "markdown",
      "source": [
        "WebDriver offers a number of ways to find elements. For example, given an element defined as:\n",
        "\n",
        "```\n",
        "<input type=\"text\" name=\"passwd\" id=\"passwd-id\" />\n",
        "```\n",
        "\n",
        "you could find it using any of:\n",
        "\n",
        "```\n",
        "element = driver.find_element(By.ID, \"passwd-id\")\n",
        "element = driver.find_element(By.NAME, \"passwd\")\n",
        "element = driver.find_element(By.CSS_SELECTOR, \"input#passwd-id\")\n",
        "```\n",
        "\n",
        "To enter some text into a text field:\n",
        "\n",
        "```\n",
        "element.clear()\n",
        "element.send_keys(\"some text\")\n",
        "```\n",
        "\n"
      ],
      "metadata": {
        "id": "QAyALZlMDoEA"
      }
    },
    {
      "cell_type": "markdown",
      "source": [
        "**Exercise:** input box HTML in HKPL\n",
        "\n",
        "`\n",
        "<input type=\"text\" maxlength=\"250\" size=\"50\" value=\"data science\" name=\"query\" id=\"id38\" autocomplete=\"off\" placeholder=\"檢索\" class=\"__safly_input_chrome __safly_input_ms\">\n",
        "`"
      ],
      "metadata": {
        "id": "BT35_DiPEMrL"
      }
    },
    {
      "cell_type": "code",
      "source": [
        "driver.find_element(By.NAME, 'query').get_attribute('value')"
      ],
      "metadata": {
        "colab": {
          "base_uri": "https://localhost:8080/",
          "height": 36
        },
        "id": "yMVtxcahJ0S9",
        "outputId": "6170b4f9-15de-4abf-9bdd-915937be6509"
      },
      "execution_count": 28,
      "outputs": [
        {
          "output_type": "execute_result",
          "data": {
            "text/plain": [
              "'python'"
            ],
            "application/vnd.google.colaboratory.intrinsic+json": {
              "type": "string"
            }
          },
          "metadata": {},
          "execution_count": 28
        }
      ]
    },
    {
      "cell_type": "code",
      "source": [
        "input_elem=driver.find_element(By.NAME, 'query')"
      ],
      "metadata": {
        "id": "YUDcqskXDxp1"
      },
      "execution_count": 22,
      "outputs": []
    },
    {
      "cell_type": "code",
      "source": [
        "input_elem.clear()"
      ],
      "metadata": {
        "id": "cjZRqR9SJS_4"
      },
      "execution_count": 23,
      "outputs": []
    },
    {
      "cell_type": "code",
      "source": [
        "input_elem.send_keys('python')"
      ],
      "metadata": {
        "id": "DgbgZyODDhjY"
      },
      "execution_count": 24,
      "outputs": []
    },
    {
      "cell_type": "code",
      "source": [
        "butt_elem = driver.find_element(By.CSS_SELECTOR,'div.quicksearch-panel > input.button')"
      ],
      "metadata": {
        "id": "htdM8O4HLYRc"
      },
      "execution_count": 25,
      "outputs": []
    },
    {
      "cell_type": "code",
      "source": [
        "butt_elem.click()"
      ],
      "metadata": {
        "id": "8SNJ1RUUMPYx"
      },
      "execution_count": 26,
      "outputs": []
    },
    {
      "cell_type": "code",
      "source": [
        "bk_name = driver.find_elements(By.CSS_SELECTOR, 'div.recordHighlight > a')\n",
        "bk_name[0].text"
      ],
      "metadata": {
        "colab": {
          "base_uri": "https://localhost:8080/",
          "height": 36
        },
        "id": "zhvRO4UGFMaF",
        "outputId": "0b440e6c-45d4-4f08-a521-cb9a2a5ee87f"
      },
      "execution_count": 27,
      "outputs": [
        {
          "output_type": "execute_result",
          "data": {
            "text/plain": [
              "'Starting out with Python / Tony Gaddis.'"
            ],
            "application/vnd.google.colaboratory.intrinsic+json": {
              "type": "string"
            }
          },
          "metadata": {},
          "execution_count": 27
        }
      ]
    },
    {
      "cell_type": "code",
      "source": [
        "# double check the input box\n",
        "driver.find_element(By.NAME, 'query').get_attribute('value')"
      ],
      "metadata": {
        "colab": {
          "base_uri": "https://localhost:8080/",
          "height": 36
        },
        "id": "L3VqP_xkGIS6",
        "outputId": "5778e2b2-2749-48c2-bb60-13fe48301369"
      },
      "execution_count": 29,
      "outputs": [
        {
          "output_type": "execute_result",
          "data": {
            "text/plain": [
              "'python'"
            ],
            "application/vnd.google.colaboratory.intrinsic+json": {
              "type": "string"
            }
          },
          "metadata": {},
          "execution_count": 29
        }
      ]
    },
    {
      "cell_type": "markdown",
      "source": [
        "**Exercise:** Loop all the book names in the first page"
      ],
      "metadata": {
        "id": "u9rMtJYTRQQA"
      }
    },
    {
      "cell_type": "code",
      "source": [],
      "metadata": {
        "id": "nW2h9lObROUB"
      },
      "execution_count": null,
      "outputs": []
    },
    {
      "cell_type": "markdown",
      "source": [
        "**Exercise:** Jump to second page"
      ],
      "metadata": {
        "id": "RkTtwIU6RcH0"
      }
    },
    {
      "cell_type": "code",
      "source": [],
      "metadata": {
        "id": "J2z2hnVsRjgn"
      },
      "execution_count": null,
      "outputs": []
    }
  ]
}