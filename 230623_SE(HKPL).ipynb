{
  "nbformat": 4,
  "nbformat_minor": 0,
  "metadata": {
    "colab": {
      "provenance": [],
      "authorship_tag": "ABX9TyOKRbiyhAZR/VzvlRWF3crW",
      "include_colab_link": true
    },
    "kernelspec": {
      "name": "python3",
      "display_name": "Python 3"
    },
    "language_info": {
      "name": "python"
    }
  },
  "cells": [
    {
      "cell_type": "markdown",
      "metadata": {
        "id": "view-in-github",
        "colab_type": "text"
      },
      "source": [
        "<a href=\"https://colab.research.google.com/github/Mikafar/Mikafar/blob/main/230623_SE(HKPL).ipynb\" target=\"_parent\"><img src=\"https://colab.research.google.com/assets/colab-badge.svg\" alt=\"Open In Colab\"/></a>"
      ]
    },
    {
      "cell_type": "code",
      "source": [
        "! pip install selenium"
      ],
      "metadata": {
        "id": "3Yh6DBDSYUae"
      },
      "execution_count": null,
      "outputs": []
    },
    {
      "cell_type": "code",
      "source": [
        "! apt-get install chromium chromium-driver"
      ],
      "metadata": {
        "id": "PGARIxrGYW2-"
      },
      "execution_count": null,
      "outputs": []
    },
    {
      "cell_type": "code",
      "source": [
        "# ! pip install webdriver-manager"
      ],
      "metadata": {
        "id": "2Te6rC_BNMTU"
      },
      "execution_count": null,
      "outputs": []
    },
    {
      "cell_type": "code",
      "execution_count": null,
      "metadata": {
        "id": "xmokfKhjYO4y"
      },
      "outputs": [],
      "source": [
        "! apt-get install wget"
      ]
    },
    {
      "cell_type": "code",
      "source": [
        "# install google chrome\n",
        "! wget https://dl.google.com/linux/direct/google-chrome-stable_current_amd64.deb"
      ],
      "metadata": {
        "id": "WFAxslYuYS5Z"
      },
      "execution_count": null,
      "outputs": []
    },
    {
      "cell_type": "code",
      "source": [
        "! dpkg -i google-chrome-stable_current_amd64.deb"
      ],
      "metadata": {
        "id": "nf3RUwnzYiF7"
      },
      "execution_count": null,
      "outputs": []
    },
    {
      "cell_type": "code",
      "source": [
        "from selenium import webdriver\n",
        "from selenium.webdriver.chrome.options import Options\n",
        "from selenium.webdriver.common.by import By\n",
        "\n",
        "# from selenium.webdriver.chrome.service import Service as ChromeService\n",
        "# from webdriver_manager.chrome import ChromeDriverManager"
      ],
      "metadata": {
        "id": "yw7cUWYaYts9"
      },
      "execution_count": 5,
      "outputs": []
    },
    {
      "cell_type": "code",
      "source": [
        "options = Options()\n",
        "options.add_argument(\"--headless\")\n",
        "options.add_argument(\"--no-sandbox\")\n",
        "\n",
        "# options.headless = True\n",
        "\n",
        "driver = webdriver.Chrome(options=options)\n",
        "# driver = webdriver.Chrome(service=ChromeService(ChromeDriverManager().install()))"
      ],
      "metadata": {
        "id": "5xYyjC9EYyNB",
        "colab": {
          "base_uri": "https://localhost:8080/"
        },
        "outputId": "18080d50-c822-4234-ae39-07cdac194eed"
      },
      "execution_count": 71,
      "outputs": [
        {
          "output_type": "stream",
          "name": "stderr",
          "text": [
            "WARNING:selenium.webdriver.common.selenium_manager:The version of chrome cannot be detected. Trying with latest driver version\n"
          ]
        }
      ]
    },
    {
      "cell_type": "code",
      "source": [
        "url = \"https://webcat.hkpl.gov.hk/search/query?match_1=MUST&field_1&term_1=python&sort=relevance&pageNumber=1&theme=WEB\"\n",
        "driver.get(url)"
      ],
      "metadata": {
        "id": "7qCTN3uzYzvh"
      },
      "execution_count": 59,
      "outputs": []
    },
    {
      "cell_type": "code",
      "source": [
        "# print(driver.title)"
      ],
      "metadata": {
        "id": "QUFvahCeY3D7"
      },
      "execution_count": null,
      "outputs": []
    },
    {
      "cell_type": "code",
      "source": [
        "bk_name = driver.find_elements(By.CSS_SELECTOR, 'div.recordHighlight > a')"
      ],
      "metadata": {
        "id": "jpgVy2HZybWJ"
      },
      "execution_count": 60,
      "outputs": []
    },
    {
      "cell_type": "code",
      "source": [
        "bk_name[0].text"
      ],
      "metadata": {
        "colab": {
          "base_uri": "https://localhost:8080/",
          "height": 36
        },
        "id": "06tNQC8PCtFT",
        "outputId": "55277b38-356e-40e6-d328-eeecfec38d48"
      },
      "execution_count": 61,
      "outputs": [
        {
          "output_type": "execute_result",
          "data": {
            "text/plain": [
              "'Starting out with Python / Tony Gaddis.'"
            ],
            "application/vnd.google.colaboratory.intrinsic+json": {
              "type": "string"
            }
          },
          "metadata": {},
          "execution_count": 61
        }
      ]
    },
    {
      "cell_type": "markdown",
      "source": [
        "## Interacting with the page"
      ],
      "metadata": {
        "id": "xZ1semx5DR2F"
      }
    },
    {
      "cell_type": "markdown",
      "source": [
        "WebDriver offers a number of ways to find elements. For example, given an element defined as:\n",
        "\n",
        "```\n",
        "<input type=\"text\" name=\"passwd\" id=\"passwd-id\" />\n",
        "```\n",
        "\n",
        "you could find it using any of:\n",
        "\n",
        "```\n",
        "element = driver.find_element(By.ID, \"passwd-id\")\n",
        "element = driver.find_element(By.NAME, \"passwd\")\n",
        "element = driver.find_element(By.CSS_SELECTOR, \"input#passwd-id\")\n",
        "```\n",
        "\n",
        "To enter some text into a text field:\n",
        "\n",
        "```\n",
        "element.clear()\n",
        "element.send_keys(\"some text\")\n",
        "```\n",
        "\n"
      ],
      "metadata": {
        "id": "QAyALZlMDoEA"
      }
    },
    {
      "cell_type": "markdown",
      "source": [
        "**Exercise:** input box HTML in HKPL\n",
        "\n",
        "`\n",
        "<input type=\"text\" maxlength=\"250\" size=\"50\" value=\"data science\" name=\"query\" id=\"id38\" autocomplete=\"off\" placeholder=\"檢索\" class=\"__safly_input_chrome __safly_input_ms\">\n",
        "`"
      ],
      "metadata": {
        "id": "BT35_DiPEMrL"
      }
    },
    {
      "cell_type": "code",
      "source": [
        "driver.find_element(By.NAME, 'query').get_attribute('value')"
      ],
      "metadata": {
        "colab": {
          "base_uri": "https://localhost:8080/",
          "height": 36
        },
        "id": "yMVtxcahJ0S9",
        "outputId": "fa3f9620-8e66-4e25-b5ac-352366301283"
      },
      "execution_count": 51,
      "outputs": [
        {
          "output_type": "execute_result",
          "data": {
            "text/plain": [
              "'python'"
            ],
            "application/vnd.google.colaboratory.intrinsic+json": {
              "type": "string"
            }
          },
          "metadata": {},
          "execution_count": 51
        }
      ]
    },
    {
      "cell_type": "code",
      "source": [
        "input_elem=driver.find_element(By.NAME, 'query')"
      ],
      "metadata": {
        "id": "YUDcqskXDxp1"
      },
      "execution_count": 52,
      "outputs": []
    },
    {
      "cell_type": "code",
      "source": [
        "input_elem.clear()"
      ],
      "metadata": {
        "id": "cjZRqR9SJS_4"
      },
      "execution_count": 53,
      "outputs": []
    },
    {
      "cell_type": "code",
      "source": [
        "input_elem.send_keys('data science')"
      ],
      "metadata": {
        "id": "DgbgZyODDhjY"
      },
      "execution_count": 54,
      "outputs": []
    },
    {
      "cell_type": "code",
      "source": [
        "butt_elem = driver.find_element(By.CSS_SELECTOR,'div.quicksearch-panel > input.button')"
      ],
      "metadata": {
        "id": "htdM8O4HLYRc"
      },
      "execution_count": 55,
      "outputs": []
    },
    {
      "cell_type": "code",
      "source": [
        "butt_elem.click()"
      ],
      "metadata": {
        "id": "8SNJ1RUUMPYx"
      },
      "execution_count": 56,
      "outputs": []
    },
    {
      "cell_type": "code",
      "source": [
        "bk_name = driver.find_elements(By.CSS_SELECTOR, 'div.recordHighlight > a')\n",
        "bk_name[0].text"
      ],
      "metadata": {
        "colab": {
          "base_uri": "https://localhost:8080/",
          "height": 36
        },
        "id": "zhvRO4UGFMaF",
        "outputId": "2d993403-2e9e-46dc-90c0-ecfde86e6897"
      },
      "execution_count": 57,
      "outputs": [
        {
          "output_type": "execute_result",
          "data": {
            "text/plain": [
              "'Measurement and data science / Gábor Péceli.'"
            ],
            "application/vnd.google.colaboratory.intrinsic+json": {
              "type": "string"
            }
          },
          "metadata": {},
          "execution_count": 57
        }
      ]
    },
    {
      "cell_type": "code",
      "source": [
        "# double check the input box\n",
        "driver.find_element(By.NAME, 'query').get_attribute('value')"
      ],
      "metadata": {
        "colab": {
          "base_uri": "https://localhost:8080/",
          "height": 36
        },
        "id": "L3VqP_xkGIS6",
        "outputId": "569d4eb7-0492-40e1-9a60-a087f21d5c06"
      },
      "execution_count": 58,
      "outputs": [
        {
          "output_type": "execute_result",
          "data": {
            "text/plain": [
              "'data science'"
            ],
            "application/vnd.google.colaboratory.intrinsic+json": {
              "type": "string"
            }
          },
          "metadata": {},
          "execution_count": 58
        }
      ]
    },
    {
      "cell_type": "markdown",
      "source": [
        "**Exercise:** Loop all the book names in the first page"
      ],
      "metadata": {
        "id": "u9rMtJYTRQQA"
      }
    },
    {
      "cell_type": "code",
      "source": [
        "all_bk_elems = driver.find_element(By.CSS_SELECTOR, 'ul.records')"
      ],
      "metadata": {
        "id": "nW2h9lObROUB"
      },
      "execution_count": 62,
      "outputs": []
    },
    {
      "cell_type": "code",
      "source": [
        "lis = all_bk_elems.find_elements(By.CSS_SELECTOR, 'li.record')"
      ],
      "metadata": {
        "id": "kWrj7usIVNRj"
      },
      "execution_count": 63,
      "outputs": []
    },
    {
      "cell_type": "code",
      "source": [
        "len(lis)"
      ],
      "metadata": {
        "colab": {
          "base_uri": "https://localhost:8080/"
        },
        "id": "UEmI_YgxVgEM",
        "outputId": "5f8f6551-4c02-4afc-c9ec-c130f871077c"
      },
      "execution_count": 64,
      "outputs": [
        {
          "output_type": "execute_result",
          "data": {
            "text/plain": [
              "10"
            ]
          },
          "metadata": {},
          "execution_count": 64
        }
      ]
    },
    {
      "cell_type": "code",
      "source": [
        "bklist=[]\n",
        "num = 1\n",
        "for li in lis:\n",
        "\n",
        "  bk_name = driver.find_element(By.CSS_SELECTOR, 'div.recordHighlight > a.title').text\n",
        "\n",
        "  bklist.append([num, bk_name])\n",
        "  num += 1\n",
        "\n",
        "print(bklist)\n"
      ],
      "metadata": {
        "colab": {
          "base_uri": "https://localhost:8080/"
        },
        "id": "MG7ZYdyIVoHR",
        "outputId": "d05d3c8a-4de6-495b-ab82-aea73ada755d"
      },
      "execution_count": 65,
      "outputs": [
        {
          "output_type": "stream",
          "name": "stdout",
          "text": [
            "[[1, 'Starting out with Python / Tony Gaddis.'], [2, 'Starting out with Python / Tony Gaddis.'], [3, 'Starting out with Python / Tony Gaddis.'], [4, 'Starting out with Python / Tony Gaddis.'], [5, 'Starting out with Python / Tony Gaddis.'], [6, 'Starting out with Python / Tony Gaddis.'], [7, 'Starting out with Python / Tony Gaddis.'], [8, 'Starting out with Python / Tony Gaddis.'], [9, 'Starting out with Python / Tony Gaddis.'], [10, 'Starting out with Python / Tony Gaddis.']]\n"
          ]
        }
      ]
    },
    {
      "cell_type": "markdown",
      "source": [
        "**Exercise:** Jump to second page"
      ],
      "metadata": {
        "id": "RkTtwIU6RcH0"
      }
    },
    {
      "cell_type": "code",
      "source": [
        "booklist = []\n",
        "for page in range(1,5,1):\n",
        "  url = \"https://webcat.hkpl.gov.hk/search/query?match_1=MUST&field_1&term_1=python&sort=relevance&pageNumber=\"+str(page)+\"&theme=WEB\"\n",
        "  driver.get(url)\n",
        "  name = driver.find_elements(By.CSS_SELECTOR, 'div.recordHighlight > a.title')\n",
        "\n",
        "  for i in range(len(name)):\n",
        "    booklist.append([name[i].text])\n",
        "\n",
        "print(booklist)"
      ],
      "metadata": {
        "colab": {
          "base_uri": "https://localhost:8080/"
        },
        "id": "J2z2hnVsRjgn",
        "outputId": "9c4f2c03-53ec-4135-90c4-46f2fcbad788"
      },
      "execution_count": 72,
      "outputs": [
        {
          "output_type": "stream",
          "name": "stdout",
          "text": [
            "[['Starting out with Python / Tony Gaddis.'], ['Starting out with Python / Tony Gaddis.'], ['Python 3.5 : extending and embedding Python.'], ['The Fairly incomplete & rather badly illustrated Monty Python song book.'], ['Programming Python / Mark Lutz.'], ['Learning Python / Mark Lutz.'], ['Learning Python / Mark Lutz.'], ['Python for ArcGIS / Laura Tateosian.'], ['Adventures in Python / Craig Richardson.'], ['Python for finance / Yves Hilpisch.'], ['Fluent Python / Luciano Ramalho.'], ['The Python book / Rob Mastrodomenico.'], ['Gray hat Python : Python programming for hackers and reverse engineers / by Justin Seitz.'], ['Head first Python / Paul Barry.'], ['Get programming : learn to code with Python / Ana Bell.'], [\"Using Asyncio in Python : understanding Python's asynchronous programming features / Caleb Hattingh.\"], ['Bite-size Python : an introduction to Python programming / April Speight.'], ['Pragmatic Python programming : learning Python the smart way / Gabor Guta.'], ['Monty Python encyclopedia / Robert Ross.'], ['Exploring Python / Timothy A. Budd.'], ['Python for data analysis / Wes McKinney.'], ['Python and HDF5 / Andrew Collette.'], ['Python pocket reference / Mark Lutz.'], ['Python 3.5 tutorial.'], ['Starting out with Python / Tony Gaddis.'], ['Begin to code with Python / Rob Miles.'], ['Deep learning with Python / François Chollet.'], ['Python distilled / David M. Beazley'], ['Python concurrency with asyncio / Matthew Fowler.'], ['Deep learning with Python / François Chollet.'], ['Core Python applications programming / Wesley J. Chun.'], ['Python 2.7.10 : extending and embedding Python / Guido van Rossum, Python Dev Team.'], ['C and Python applications : embedding Python code in C programs, SQL methods, and Python sockets / Philip Joyce.'], [\"Monty Python's the meaning of life / written and performed by Graham Chapman ... [et al.].\"], ['Python 2.7.10 : setup and usage guide / Guido van Rossum, Python Dev Team.'], ['Python 2.7.10 tutorial / Guido van Rossum, Python Dev Team.'], ['Python 2.7.10 language reference / Guido van Rossum, Python Dev Team.'], ['Python 2.7.10 : C API / Guido van Rossum, Python Dev Team.'], ['精通Python 3程式設計 = Programming in Python 3 : a complete introduction to the Python language / Mark Summerfield著 ; 蔣大偉譯.'], ['Hacking secret ciphers with Python / by Al Sweigart.']]\n"
          ]
        }
      ]
    },
    {
      "cell_type": "code",
      "source": [
        "len(booklist)"
      ],
      "metadata": {
        "colab": {
          "base_uri": "https://localhost:8080/"
        },
        "id": "zoBRBqxWcAJ7",
        "outputId": "9c11920d-1453-4f98-b881-fb69d83f325c"
      },
      "execution_count": 73,
      "outputs": [
        {
          "output_type": "execute_result",
          "data": {
            "text/plain": [
              "40"
            ]
          },
          "metadata": {},
          "execution_count": 73
        }
      ]
    },
    {
      "cell_type": "code",
      "source": [
        "driver.close()"
      ],
      "metadata": {
        "id": "6mg1eGxzbsrb"
      },
      "execution_count": 74,
      "outputs": []
    },
    {
      "cell_type": "code",
      "source": [],
      "metadata": {
        "id": "-pCqjB9YcCPc"
      },
      "execution_count": null,
      "outputs": []
    }
  ]
}