{
  "nbformat": 4,
  "nbformat_minor": 0,
  "metadata": {
    "colab": {
      "provenance": [],
      "authorship_tag": "ABX9TyM9ytOilLitTorOv+hss+aA",
      "include_colab_link": true
    },
    "kernelspec": {
      "name": "python3",
      "display_name": "Python 3"
    },
    "language_info": {
      "name": "python"
    }
  },
  "cells": [
    {
      "cell_type": "markdown",
      "metadata": {
        "id": "view-in-github",
        "colab_type": "text"
      },
      "source": [
        "<a href=\"https://colab.research.google.com/github/Mikafar/Mikafar/blob/main/230623_SE(HKPL).ipynb\" target=\"_parent\"><img src=\"https://colab.research.google.com/assets/colab-badge.svg\" alt=\"Open In Colab\"/></a>"
      ]
    },
    {
      "cell_type": "markdown",
      "source": [
        "# Installation"
      ],
      "metadata": {
        "id": "y6q4LMH5Nlwr"
      }
    },
    {
      "cell_type": "code",
      "source": [
        "! pip install selenium"
      ],
      "metadata": {
        "id": "3Yh6DBDSYUae",
        "colab": {
          "base_uri": "https://localhost:8080/"
        },
        "outputId": "4ba447bd-1443-4807-b8e1-f03bc930ee97"
      },
      "execution_count": 1,
      "outputs": [
        {
          "output_type": "stream",
          "name": "stdout",
          "text": [
            "Looking in indexes: https://pypi.org/simple, https://us-python.pkg.dev/colab-wheels/public/simple/\n",
            "Collecting selenium\n",
            "  Downloading selenium-4.10.0-py3-none-any.whl (6.7 MB)\n",
            "\u001b[2K     \u001b[90m━━━━━━━━━━━━━━━━━━━━━━━━━━━━━━━━━━━━━━━━\u001b[0m \u001b[32m6.7/6.7 MB\u001b[0m \u001b[31m62.5 MB/s\u001b[0m eta \u001b[36m0:00:00\u001b[0m\n",
            "\u001b[?25hRequirement already satisfied: urllib3[socks]<3,>=1.26 in /usr/local/lib/python3.10/dist-packages (from selenium) (1.26.15)\n",
            "Collecting trio~=0.17 (from selenium)\n",
            "  Downloading trio-0.22.0-py3-none-any.whl (384 kB)\n",
            "\u001b[2K     \u001b[90m━━━━━━━━━━━━━━━━━━━━━━━━━━━━━━━━━━━━━━\u001b[0m \u001b[32m384.9/384.9 kB\u001b[0m \u001b[31m32.8 MB/s\u001b[0m eta \u001b[36m0:00:00\u001b[0m\n",
            "\u001b[?25hCollecting trio-websocket~=0.9 (from selenium)\n",
            "  Downloading trio_websocket-0.10.3-py3-none-any.whl (17 kB)\n",
            "Requirement already satisfied: certifi>=2021.10.8 in /usr/local/lib/python3.10/dist-packages (from selenium) (2022.12.7)\n",
            "Requirement already satisfied: attrs>=19.2.0 in /usr/local/lib/python3.10/dist-packages (from trio~=0.17->selenium) (23.1.0)\n",
            "Requirement already satisfied: sortedcontainers in /usr/local/lib/python3.10/dist-packages (from trio~=0.17->selenium) (2.4.0)\n",
            "Collecting async-generator>=1.9 (from trio~=0.17->selenium)\n",
            "  Downloading async_generator-1.10-py3-none-any.whl (18 kB)\n",
            "Requirement already satisfied: idna in /usr/local/lib/python3.10/dist-packages (from trio~=0.17->selenium) (3.4)\n",
            "Collecting outcome (from trio~=0.17->selenium)\n",
            "  Downloading outcome-1.2.0-py2.py3-none-any.whl (9.7 kB)\n",
            "Requirement already satisfied: sniffio in /usr/local/lib/python3.10/dist-packages (from trio~=0.17->selenium) (1.3.0)\n",
            "Requirement already satisfied: exceptiongroup>=1.0.0rc9 in /usr/local/lib/python3.10/dist-packages (from trio~=0.17->selenium) (1.1.1)\n",
            "Collecting wsproto>=0.14 (from trio-websocket~=0.9->selenium)\n",
            "  Downloading wsproto-1.2.0-py3-none-any.whl (24 kB)\n",
            "Requirement already satisfied: PySocks!=1.5.7,<2.0,>=1.5.6 in /usr/local/lib/python3.10/dist-packages (from urllib3[socks]<3,>=1.26->selenium) (1.7.1)\n",
            "Collecting h11<1,>=0.9.0 (from wsproto>=0.14->trio-websocket~=0.9->selenium)\n",
            "  Downloading h11-0.14.0-py3-none-any.whl (58 kB)\n",
            "\u001b[2K     \u001b[90m━━━━━━━━━━━━━━━━━━━━━━━━━━━━━━━━━━━━━━━━\u001b[0m \u001b[32m58.3/58.3 kB\u001b[0m \u001b[31m6.1 MB/s\u001b[0m eta \u001b[36m0:00:00\u001b[0m\n",
            "\u001b[?25hInstalling collected packages: outcome, h11, async-generator, wsproto, trio, trio-websocket, selenium\n",
            "Successfully installed async-generator-1.10 h11-0.14.0 outcome-1.2.0 selenium-4.10.0 trio-0.22.0 trio-websocket-0.10.3 wsproto-1.2.0\n"
          ]
        }
      ]
    },
    {
      "cell_type": "code",
      "source": [
        "! apt-get install chromium chromium-driver"
      ],
      "metadata": {
        "id": "PGARIxrGYW2-",
        "colab": {
          "base_uri": "https://localhost:8080/"
        },
        "outputId": "937ba0ee-9141-4fbc-db89-d316871d72b8"
      },
      "execution_count": 2,
      "outputs": [
        {
          "output_type": "stream",
          "name": "stdout",
          "text": [
            "Reading package lists... Done\n",
            "Building dependency tree       \n",
            "Reading state information... Done\n",
            "Note, selecting 'chromium-chromedriver' instead of 'chromium-driver'\n",
            "Package chromium is not available, but is referred to by another package.\n",
            "This may mean that the package is missing, has been obsoleted, or\n",
            "is only available from another source\n",
            "However the following packages replace it:\n",
            "  chromium-bsu\n",
            "\n",
            "E: Package 'chromium' has no installation candidate\n"
          ]
        }
      ]
    },
    {
      "cell_type": "code",
      "source": [
        "# ! pip install webdriver-manager"
      ],
      "metadata": {
        "id": "2Te6rC_BNMTU"
      },
      "execution_count": 3,
      "outputs": []
    },
    {
      "cell_type": "code",
      "execution_count": 4,
      "metadata": {
        "id": "xmokfKhjYO4y",
        "colab": {
          "base_uri": "https://localhost:8080/"
        },
        "outputId": "ef089001-f57c-48c6-f251-0f8f3326f682"
      },
      "outputs": [
        {
          "output_type": "stream",
          "name": "stdout",
          "text": [
            "Reading package lists... Done\n",
            "Building dependency tree       \n",
            "Reading state information... Done\n",
            "wget is already the newest version (1.20.3-1ubuntu2).\n",
            "0 upgraded, 0 newly installed, 0 to remove and 13 not upgraded.\n"
          ]
        }
      ],
      "source": [
        "! apt-get install wget"
      ]
    },
    {
      "cell_type": "code",
      "source": [
        "# install google chrome\n",
        "! wget https://dl.google.com/linux/direct/google-chrome-stable_current_amd64.deb"
      ],
      "metadata": {
        "id": "WFAxslYuYS5Z",
        "colab": {
          "base_uri": "https://localhost:8080/"
        },
        "outputId": "a6a6b4e5-330c-464c-cefc-a197ac5b6039"
      },
      "execution_count": 5,
      "outputs": [
        {
          "output_type": "stream",
          "name": "stdout",
          "text": [
            "--2023-06-23 06:56:12--  https://dl.google.com/linux/direct/google-chrome-stable_current_amd64.deb\n",
            "Resolving dl.google.com (dl.google.com)... 74.125.197.93, 74.125.197.190, 74.125.197.136, ...\n",
            "Connecting to dl.google.com (dl.google.com)|74.125.197.93|:443... connected.\n",
            "HTTP request sent, awaiting response... 200 OK\n",
            "Length: 94355016 (90M) [application/x-debian-package]\n",
            "Saving to: ‘google-chrome-stable_current_amd64.deb’\n",
            "\n",
            "google-chrome-stabl 100%[===================>]  89.98M   100MB/s    in 0.9s    \n",
            "\n",
            "2023-06-23 06:56:13 (100 MB/s) - ‘google-chrome-stable_current_amd64.deb’ saved [94355016/94355016]\n",
            "\n"
          ]
        }
      ]
    },
    {
      "cell_type": "code",
      "source": [
        "! dpkg -i google-chrome-stable_current_amd64.deb"
      ],
      "metadata": {
        "id": "nf3RUwnzYiF7",
        "colab": {
          "base_uri": "https://localhost:8080/"
        },
        "outputId": "60904696-2262-45df-99bb-cfd8975be9ca"
      },
      "execution_count": 6,
      "outputs": [
        {
          "output_type": "stream",
          "name": "stdout",
          "text": [
            "Selecting previously unselected package google-chrome-stable.\n",
            "(Reading database ... 123069 files and directories currently installed.)\n",
            "Preparing to unpack google-chrome-stable_current_amd64.deb ...\n",
            "Unpacking google-chrome-stable (114.0.5735.133-1) ...\n",
            "\u001b[1mdpkg:\u001b[0m dependency problems prevent configuration of google-chrome-stable:\n",
            " google-chrome-stable depends on libu2f-udev; however:\n",
            "  Package libu2f-udev is not installed.\n",
            "\n",
            "\u001b[1mdpkg:\u001b[0m error processing package google-chrome-stable (--install):\n",
            " dependency problems - leaving unconfigured\n",
            "Processing triggers for mime-support (3.64ubuntu1) ...\n",
            "Processing triggers for man-db (2.9.1-1) ...\n",
            "Errors were encountered while processing:\n",
            " google-chrome-stable\n"
          ]
        }
      ]
    },
    {
      "cell_type": "code",
      "source": [
        "from selenium import webdriver\n",
        "from selenium.webdriver.chrome.options import Options\n",
        "from selenium.webdriver.common.by import By\n",
        "\n",
        "# from selenium.webdriver.chrome.service import Service as ChromeService\n",
        "# from webdriver_manager.chrome import ChromeDriverManager"
      ],
      "metadata": {
        "id": "yw7cUWYaYts9"
      },
      "execution_count": 7,
      "outputs": []
    },
    {
      "cell_type": "code",
      "source": [
        "options = Options()\n",
        "options.add_argument(\"--headless\")\n",
        "options.add_argument(\"--no-sandbox\")\n",
        "\n",
        "# options.headless = True\n",
        "\n",
        "driver = webdriver.Chrome(options=options)\n",
        "# driver = webdriver.Chrome(service=ChromeService(ChromeDriverManager().install()))"
      ],
      "metadata": {
        "id": "5xYyjC9EYyNB",
        "colab": {
          "base_uri": "https://localhost:8080/"
        },
        "outputId": "d00035cb-82ea-476a-9c37-0e9ac82cb988"
      },
      "execution_count": 42,
      "outputs": [
        {
          "output_type": "stream",
          "name": "stderr",
          "text": [
            "WARNING:selenium.webdriver.common.selenium_manager:The version of chrome cannot be detected. Trying with latest driver version\n"
          ]
        }
      ]
    },
    {
      "cell_type": "code",
      "source": [
        "url = \"https://webcat.hkpl.gov.hk/search/query?theme=WEB\"\n",
        "driver.get(url)"
      ],
      "metadata": {
        "id": "7qCTN3uzYzvh"
      },
      "execution_count": 9,
      "outputs": []
    },
    {
      "cell_type": "code",
      "source": [
        "# print(driver.title)"
      ],
      "metadata": {
        "id": "QUFvahCeY3D7"
      },
      "execution_count": null,
      "outputs": []
    },
    {
      "cell_type": "code",
      "source": [
        "bk_name = driver.find_elements(By.CSS_SELECTOR, 'div.recordHighlight > a')"
      ],
      "metadata": {
        "id": "jpgVy2HZybWJ"
      },
      "execution_count": 10,
      "outputs": []
    },
    {
      "cell_type": "code",
      "source": [
        "bk_name[0].text"
      ],
      "metadata": {
        "colab": {
          "base_uri": "https://localhost:8080/",
          "height": 36
        },
        "id": "06tNQC8PCtFT",
        "outputId": "35cc866f-05ea-490e-da0b-5d63d128aca7"
      },
      "execution_count": 11,
      "outputs": [
        {
          "output_type": "execute_result",
          "data": {
            "text/plain": [
              "'Music : the definitive visual history.'"
            ],
            "application/vnd.google.colaboratory.intrinsic+json": {
              "type": "string"
            }
          },
          "metadata": {},
          "execution_count": 11
        }
      ]
    },
    {
      "cell_type": "markdown",
      "source": [
        "## Interacting with the page"
      ],
      "metadata": {
        "id": "xZ1semx5DR2F"
      }
    },
    {
      "cell_type": "markdown",
      "source": [
        "WebDriver offers a number of ways to find elements. For example, given an element defined as:\n",
        "\n",
        "```\n",
        "<input type=\"text\" name=\"passwd\" id=\"passwd-id\" />\n",
        "```\n",
        "\n",
        "you could find it using any of:\n",
        "\n",
        "```\n",
        "element = driver.find_element(By.ID, \"passwd-id\")\n",
        "element = driver.find_element(By.NAME, \"passwd\")\n",
        "element = driver.find_element(By.CSS_SELECTOR, \"input#passwd-id\")\n",
        "```\n",
        "\n",
        "To enter some text into a text field:\n",
        "\n",
        "```\n",
        "element.clear()\n",
        "element.send_keys(\"some text\")\n",
        "```\n",
        "\n"
      ],
      "metadata": {
        "id": "QAyALZlMDoEA"
      }
    },
    {
      "cell_type": "markdown",
      "source": [
        "**Exercise:** input box HTML in HKPL\n",
        "\n",
        "`\n",
        "<input type=\"text\" maxlength=\"250\" size=\"50\" value=\"data science\" name=\"query\" id=\"id38\" autocomplete=\"off\" placeholder=\"檢索\" class=\"__safly_input_chrome __safly_input_ms\">\n",
        "`\n",
        "\n",
        "`\n",
        "<input type=\"text\" maxlength=\"250\" size=\"50\" value=\"\" name=\"query\" id=\"id6f1\" autocomplete=\"off\" placeholder=\"檢索\" class=\"__safly_input_chrome __safly_input_ms\">\n",
        "`"
      ],
      "metadata": {
        "id": "BT35_DiPEMrL"
      }
    },
    {
      "cell_type": "code",
      "source": [
        "driver.find_element(By.NAME, 'query').get_attribute('value')"
      ],
      "metadata": {
        "colab": {
          "base_uri": "https://localhost:8080/",
          "height": 36
        },
        "id": "yMVtxcahJ0S9",
        "outputId": "2ee8c447-4b40-40af-f5fe-e00c7f9d2d7b"
      },
      "execution_count": 15,
      "outputs": [
        {
          "output_type": "execute_result",
          "data": {
            "text/plain": [
              "''"
            ],
            "application/vnd.google.colaboratory.intrinsic+json": {
              "type": "string"
            }
          },
          "metadata": {},
          "execution_count": 15
        }
      ]
    },
    {
      "cell_type": "code",
      "source": [
        "input_elem=driver.find_element(By.NAME, 'query')"
      ],
      "metadata": {
        "id": "YUDcqskXDxp1"
      },
      "execution_count": 16,
      "outputs": []
    },
    {
      "cell_type": "code",
      "source": [
        "input_elem.clear()"
      ],
      "metadata": {
        "id": "cjZRqR9SJS_4"
      },
      "execution_count": 17,
      "outputs": []
    },
    {
      "cell_type": "code",
      "source": [
        "input_elem.send_keys('data science')"
      ],
      "metadata": {
        "id": "DgbgZyODDhjY"
      },
      "execution_count": 18,
      "outputs": []
    },
    {
      "cell_type": "code",
      "source": [
        "# double check the input box\n",
        "driver.find_element(By.NAME, 'query').get_attribute('value')"
      ],
      "metadata": {
        "colab": {
          "base_uri": "https://localhost:8080/",
          "height": 36
        },
        "id": "L3VqP_xkGIS6",
        "outputId": "64a9e625-9948-4baa-cccd-3a2ba28351d8"
      },
      "execution_count": 20,
      "outputs": [
        {
          "output_type": "execute_result",
          "data": {
            "text/plain": [
              "'data science'"
            ],
            "application/vnd.google.colaboratory.intrinsic+json": {
              "type": "string"
            }
          },
          "metadata": {},
          "execution_count": 20
        }
      ]
    },
    {
      "cell_type": "markdown",
      "source": [
        "`\n",
        "<input type=\"text\" maxlength=\"250\" size=\"50\" value=\"data science\" name=\"query\" id=\"id38\" autocomplete=\"off\" placeholder=\"檢索\" class=\"__safly_input_chrome __safly_input_ms\">\n",
        "`"
      ],
      "metadata": {
        "id": "OggMu2ZUDRgx"
      }
    },
    {
      "cell_type": "code",
      "source": [
        "butt_elem = driver.find_element(By.CSS_SELECTOR,'div.quicksearch-panel > input.button')"
      ],
      "metadata": {
        "id": "htdM8O4HLYRc"
      },
      "execution_count": 19,
      "outputs": []
    },
    {
      "cell_type": "code",
      "source": [
        "butt_elem.click()"
      ],
      "metadata": {
        "id": "8SNJ1RUUMPYx"
      },
      "execution_count": 21,
      "outputs": []
    },
    {
      "cell_type": "code",
      "source": [
        "bk_name = driver.find_elements(By.CSS_SELECTOR, 'div.recordHighlight > a')\n",
        "bk_name[0].text"
      ],
      "metadata": {
        "colab": {
          "base_uri": "https://localhost:8080/",
          "height": 36
        },
        "id": "zhvRO4UGFMaF",
        "outputId": "3737737f-0fb5-4486-bcb0-4c0f5af624f2"
      },
      "execution_count": 22,
      "outputs": [
        {
          "output_type": "execute_result",
          "data": {
            "text/plain": [
              "'Measurement and data science / Gábor Péceli.'"
            ],
            "application/vnd.google.colaboratory.intrinsic+json": {
              "type": "string"
            }
          },
          "metadata": {},
          "execution_count": 22
        }
      ]
    },
    {
      "cell_type": "markdown",
      "source": [
        "**Exercise:** Loop all the book names in the first page"
      ],
      "metadata": {
        "id": "u9rMtJYTRQQA"
      }
    },
    {
      "cell_type": "code",
      "source": [
        "all_bk_elems = driver.find_element(By.CSS_SELECTOR, 'ul.records')"
      ],
      "metadata": {
        "id": "nW2h9lObROUB"
      },
      "execution_count": 23,
      "outputs": []
    },
    {
      "cell_type": "code",
      "source": [
        "lis = all_bk_elems.find_elements(By.CSS_SELECTOR, 'li.record')"
      ],
      "metadata": {
        "id": "kWrj7usIVNRj"
      },
      "execution_count": 24,
      "outputs": []
    },
    {
      "cell_type": "code",
      "source": [
        "len(lis)"
      ],
      "metadata": {
        "colab": {
          "base_uri": "https://localhost:8080/"
        },
        "id": "UEmI_YgxVgEM",
        "outputId": "bec6bff0-743f-4b62-f448-d68758bff68f"
      },
      "execution_count": 25,
      "outputs": [
        {
          "output_type": "execute_result",
          "data": {
            "text/plain": [
              "10"
            ]
          },
          "metadata": {},
          "execution_count": 25
        }
      ]
    },
    {
      "cell_type": "code",
      "source": [
        "bklist=[]\n",
        "\n",
        "for li in lis:\n",
        "  num = li.find_element(By.CSS_SELECTOR, 'div.recordNumber > div').text\n",
        "  bk_name = li.find_element(By.CSS_SELECTOR, 'div.recordHighlight > a.title').text\n",
        "  bklist.append([num, bk_name])\n",
        "\n",
        "\n",
        "print(bklist)\n"
      ],
      "metadata": {
        "colab": {
          "base_uri": "https://localhost:8080/"
        },
        "id": "MG7ZYdyIVoHR",
        "outputId": "3713b2eb-b1fd-4c32-ff32-fc41c0008a45"
      },
      "execution_count": 29,
      "outputs": [
        {
          "output_type": "stream",
          "name": "stdout",
          "text": [
            "[['1.', 'Measurement and data science / Gábor Péceli.'], ['2.', 'Introduction to data science : data analysis and prediction algorithms with R / Rafael A. Irizarry.'], ['3.', 'JavaScript for data science / Maya Gans, Toby Hodges, Greg Wilson.'], ['4.', 'A tour of data science : learn R and Python in parallel / Nailong Zhang.'], ['5.', 'Data science for business / Foster Provost and Tom Fawcett.'], ['6.', 'Data science fundamentals : pocket primer / Oswald Campesato.'], ['7.', 'Data science and big data computing : frameworks and methodologies / Zaigham Mahmood, editor.'], ['8.', 'Probability and statistics for data science : math + R + data / Norman Matloff.'], ['9.', 'Data science and complex networks : real cases studies with Python / Guido Caldarelli, Alessandro Chessa.'], ['10.', 'Data science & big data analytics : discovering, analyzing, visualizing and presenting data / EMC Education Services.']]\n"
          ]
        }
      ]
    },
    {
      "cell_type": "markdown",
      "source": [
        "**Exercise:** Jump to second page"
      ],
      "metadata": {
        "id": "RkTtwIU6RcH0"
      }
    },
    {
      "cell_type": "code",
      "source": [
        "booklist = []\n",
        "for page in range(1,4,1):\n",
        "  url = \"https://webcat.hkpl.gov.hk/search/query?match_1=MUST&field_1&term_1=python&sort=relevance&pageNumber=\" +str(page)+ \"&theme=WEB\"\n",
        "  driver.get(url)\n",
        "  ul = driver.find_element(By.CSS_SELECTOR, 'ul.records')\n",
        "  num = ul.find_elements(By.CSS_SELECTOR, 'li.record > div.recordNumber div:first-child')\n",
        "  isbn = ul.find_elements(By.CSS_SELECTOR, 'div[data-isbn]')\n",
        "  name = ul.find_elements(By.CSS_SELECTOR, 'div.recordHighlight > a.title')\n",
        "  print(len(num), len(name), len(isbn))\n",
        "\n",
        "  for i in range(len(name)):\n",
        "    booklist.append([num[i].text, isbn[i].get_attribute('data-isbn'), name[i].text])\n",
        "\n",
        "print(booklist)"
      ],
      "metadata": {
        "colab": {
          "base_uri": "https://localhost:8080/"
        },
        "id": "J2z2hnVsRjgn",
        "outputId": "db6616f8-a80f-4ac5-fb65-880c6088bbb6"
      },
      "execution_count": 51,
      "outputs": [
        {
          "output_type": "stream",
          "name": "stdout",
          "text": [
            "10 10 10\n",
            "10 10 10\n",
            "10 10 10\n",
            "[['1.', '9780321537119', 'Starting out with Python / Tony Gaddis.'], ['2.', '9780133582734', 'Starting out with Python / Tony Gaddis.'], ['3.', '9789881443694', 'Python 3.5 : extending and embedding Python.'], ['4.', '9780749319526', 'The Fairly incomplete & rather badly illustrated Monty Python song book.'], ['5.', '9780596000851', 'Programming Python / Mark Lutz.'], ['6.', '9780596513986', 'Learning Python / Mark Lutz.'], ['7.', '9780596158064', 'Learning Python / Mark Lutz.'], ['8.', '9783319183978', 'Python for ArcGIS / Laura Tateosian.'], ['9.', '9781118951798', 'Adventures in Python / Craig Richardson.'], ['10.', '9781491945285', 'Python for finance / Yves Hilpisch.'], ['11.', '9781491946008', 'Fluent Python / Luciano Ramalho.'], ['12.', '9781119573319', 'The Python book / Rob Mastrodomenico.'], ['13.', '9781593271923', 'Gray hat Python : Python programming for hackers and reverse engineers / by Justin Seitz.'], ['14.', '9781449382674', 'Head first Python / Paul Barry.'], ['15.', '9781617293788', 'Get programming : learn to code with Python / Ana Bell.'], ['16.', '9781492075332', \"Using Asyncio in Python : understanding Python's asynchronous programming features / Caleb Hattingh.\"], ['17.', '9781119643814', 'Bite-size Python : an introduction to Python programming / April Speight.'], ['18.', '9781484281512', 'Pragmatic Python programming : learning Python the smart way / Gabor Guta.'], ['19.', '9780713482799', 'Monty Python encyclopedia / Robert Ross.'], ['20.', '9780073523378', 'Exploring Python / Timothy A. Budd.'], ['21.', '9781449319793', 'Python for data analysis / Wes McKinney.'], ['22.', '9781449367831', 'Python and HDF5 / Andrew Collette.'], ['23.', '9781449357016', 'Python pocket reference / Mark Lutz.'], ['24.', '9789881443656', 'Python 3.5 tutorial.'], ['25.', '9780134444321', 'Starting out with Python / Tony Gaddis.'], ['26.', '9781509304523', 'Begin to code with Python / Rob Miles.'], ['27.', '9781617294433', 'Deep learning with Python / François Chollet.'], ['28.', '9780134173276', 'Python distilled / David M. Beazley'], ['29.', '9781617298660', 'Python concurrency with asyncio / Matthew Fowler.'], ['30.', '9781617296864', 'Deep learning with Python / François Chollet.']]\n"
          ]
        }
      ]
    },
    {
      "cell_type": "code",
      "source": [
        "len(booklist)"
      ],
      "metadata": {
        "colab": {
          "base_uri": "https://localhost:8080/"
        },
        "id": "zoBRBqxWcAJ7",
        "outputId": "4ddd7388-ac6f-465b-85e0-ed47e78c5b84"
      },
      "execution_count": 35,
      "outputs": [
        {
          "output_type": "execute_result",
          "data": {
            "text/plain": [
              "30"
            ]
          },
          "metadata": {},
          "execution_count": 35
        }
      ]
    },
    {
      "cell_type": "code",
      "source": [
        "driver.close()"
      ],
      "metadata": {
        "id": "6mg1eGxzbsrb"
      },
      "execution_count": 36,
      "outputs": []
    },
    {
      "cell_type": "code",
      "source": [
        "! pip install pandas"
      ],
      "metadata": {
        "colab": {
          "base_uri": "https://localhost:8080/"
        },
        "id": "UNCqEctxH-Zr",
        "outputId": "67559ac8-2f82-49e4-fa35-82d6f105d067"
      },
      "execution_count": 32,
      "outputs": [
        {
          "output_type": "stream",
          "name": "stdout",
          "text": [
            "Looking in indexes: https://pypi.org/simple, https://us-python.pkg.dev/colab-wheels/public/simple/\n",
            "Requirement already satisfied: pandas in /usr/local/lib/python3.10/dist-packages (1.5.3)\n",
            "Requirement already satisfied: python-dateutil>=2.8.1 in /usr/local/lib/python3.10/dist-packages (from pandas) (2.8.2)\n",
            "Requirement already satisfied: pytz>=2020.1 in /usr/local/lib/python3.10/dist-packages (from pandas) (2022.7.1)\n",
            "Requirement already satisfied: numpy>=1.21.0 in /usr/local/lib/python3.10/dist-packages (from pandas) (1.22.4)\n",
            "Requirement already satisfied: six>=1.5 in /usr/local/lib/python3.10/dist-packages (from python-dateutil>=2.8.1->pandas) (1.16.0)\n"
          ]
        }
      ]
    },
    {
      "cell_type": "code",
      "source": [
        "import pandas as pd"
      ],
      "metadata": {
        "id": "-pCqjB9YcCPc"
      },
      "execution_count": 37,
      "outputs": []
    },
    {
      "cell_type": "code",
      "source": [
        "hkpldf = pd.DataFrame(booklist, columns=['no.', 'isbn', 'name'])"
      ],
      "metadata": {
        "id": "TkdxBO-PJadw"
      },
      "execution_count": 52,
      "outputs": []
    },
    {
      "cell_type": "code",
      "source": [
        "hkpldf"
      ],
      "metadata": {
        "colab": {
          "base_uri": "https://localhost:8080/",
          "height": 990
        },
        "id": "9VQlthX-JnP2",
        "outputId": "55c2af5f-cecf-492e-ff2d-b9c9bed61f7b"
      },
      "execution_count": 53,
      "outputs": [
        {
          "output_type": "execute_result",
          "data": {
            "text/plain": [
              "    no.           isbn                                               name\n",
              "0    1.  9780321537119            Starting out with Python / Tony Gaddis.\n",
              "1    2.  9780133582734            Starting out with Python / Tony Gaddis.\n",
              "2    3.  9789881443694       Python 3.5 : extending and embedding Python.\n",
              "3    4.  9780749319526  The Fairly incomplete & rather badly illustrat...\n",
              "4    5.  9780596000851                    Programming Python / Mark Lutz.\n",
              "5    6.  9780596513986                       Learning Python / Mark Lutz.\n",
              "6    7.  9780596158064                       Learning Python / Mark Lutz.\n",
              "7    8.  9783319183978               Python for ArcGIS / Laura Tateosian.\n",
              "8    9.  9781118951798           Adventures in Python / Craig Richardson.\n",
              "9   10.  9781491945285                Python for finance / Yves Hilpisch.\n",
              "10  11.  9781491946008                   Fluent Python / Luciano Ramalho.\n",
              "11  12.  9781119573319              The Python book / Rob Mastrodomenico.\n",
              "12  13.  9781593271923  Gray hat Python : Python programming for hacke...\n",
              "13  14.  9781449382674                    Head first Python / Paul Barry.\n",
              "14  15.  9781617293788  Get programming : learn to code with Python / ...\n",
              "15  16.  9781492075332  Using Asyncio in Python : understanding Python...\n",
              "16  17.  9781119643814  Bite-size Python : an introduction to Python p...\n",
              "17  18.  9781484281512  Pragmatic Python programming : learning Python...\n",
              "18  19.  9780713482799           Monty Python encyclopedia / Robert Ross.\n",
              "19  20.  9780073523378                Exploring Python / Timothy A. Budd.\n",
              "20  21.  9781449319793           Python for data analysis / Wes McKinney.\n",
              "21  22.  9781449367831                 Python and HDF5 / Andrew Collette.\n",
              "22  23.  9781449357016               Python pocket reference / Mark Lutz.\n",
              "23  24.  9789881443656                               Python 3.5 tutorial.\n",
              "24  25.  9780134444321            Starting out with Python / Tony Gaddis.\n",
              "25  26.  9781509304523             Begin to code with Python / Rob Miles.\n",
              "26  27.  9781617294433     Deep learning with Python / François Chollet.\n",
              "27  28.  9780134173276                Python distilled / David M. Beazley\n",
              "28  29.  9781617298660  Python concurrency with asyncio / Matthew Fowler.\n",
              "29  30.  9781617296864      Deep learning with Python / François Chollet."
            ],
            "text/html": [
              "\n",
              "  <div id=\"df-4cff369d-2dee-4b51-a5f1-da38588651ee\">\n",
              "    <div class=\"colab-df-container\">\n",
              "      <div>\n",
              "<style scoped>\n",
              "    .dataframe tbody tr th:only-of-type {\n",
              "        vertical-align: middle;\n",
              "    }\n",
              "\n",
              "    .dataframe tbody tr th {\n",
              "        vertical-align: top;\n",
              "    }\n",
              "\n",
              "    .dataframe thead th {\n",
              "        text-align: right;\n",
              "    }\n",
              "</style>\n",
              "<table border=\"1\" class=\"dataframe\">\n",
              "  <thead>\n",
              "    <tr style=\"text-align: right;\">\n",
              "      <th></th>\n",
              "      <th>no.</th>\n",
              "      <th>isbn</th>\n",
              "      <th>name</th>\n",
              "    </tr>\n",
              "  </thead>\n",
              "  <tbody>\n",
              "    <tr>\n",
              "      <th>0</th>\n",
              "      <td>1.</td>\n",
              "      <td>9780321537119</td>\n",
              "      <td>Starting out with Python / Tony Gaddis.</td>\n",
              "    </tr>\n",
              "    <tr>\n",
              "      <th>1</th>\n",
              "      <td>2.</td>\n",
              "      <td>9780133582734</td>\n",
              "      <td>Starting out with Python / Tony Gaddis.</td>\n",
              "    </tr>\n",
              "    <tr>\n",
              "      <th>2</th>\n",
              "      <td>3.</td>\n",
              "      <td>9789881443694</td>\n",
              "      <td>Python 3.5 : extending and embedding Python.</td>\n",
              "    </tr>\n",
              "    <tr>\n",
              "      <th>3</th>\n",
              "      <td>4.</td>\n",
              "      <td>9780749319526</td>\n",
              "      <td>The Fairly incomplete &amp; rather badly illustrat...</td>\n",
              "    </tr>\n",
              "    <tr>\n",
              "      <th>4</th>\n",
              "      <td>5.</td>\n",
              "      <td>9780596000851</td>\n",
              "      <td>Programming Python / Mark Lutz.</td>\n",
              "    </tr>\n",
              "    <tr>\n",
              "      <th>5</th>\n",
              "      <td>6.</td>\n",
              "      <td>9780596513986</td>\n",
              "      <td>Learning Python / Mark Lutz.</td>\n",
              "    </tr>\n",
              "    <tr>\n",
              "      <th>6</th>\n",
              "      <td>7.</td>\n",
              "      <td>9780596158064</td>\n",
              "      <td>Learning Python / Mark Lutz.</td>\n",
              "    </tr>\n",
              "    <tr>\n",
              "      <th>7</th>\n",
              "      <td>8.</td>\n",
              "      <td>9783319183978</td>\n",
              "      <td>Python for ArcGIS / Laura Tateosian.</td>\n",
              "    </tr>\n",
              "    <tr>\n",
              "      <th>8</th>\n",
              "      <td>9.</td>\n",
              "      <td>9781118951798</td>\n",
              "      <td>Adventures in Python / Craig Richardson.</td>\n",
              "    </tr>\n",
              "    <tr>\n",
              "      <th>9</th>\n",
              "      <td>10.</td>\n",
              "      <td>9781491945285</td>\n",
              "      <td>Python for finance / Yves Hilpisch.</td>\n",
              "    </tr>\n",
              "    <tr>\n",
              "      <th>10</th>\n",
              "      <td>11.</td>\n",
              "      <td>9781491946008</td>\n",
              "      <td>Fluent Python / Luciano Ramalho.</td>\n",
              "    </tr>\n",
              "    <tr>\n",
              "      <th>11</th>\n",
              "      <td>12.</td>\n",
              "      <td>9781119573319</td>\n",
              "      <td>The Python book / Rob Mastrodomenico.</td>\n",
              "    </tr>\n",
              "    <tr>\n",
              "      <th>12</th>\n",
              "      <td>13.</td>\n",
              "      <td>9781593271923</td>\n",
              "      <td>Gray hat Python : Python programming for hacke...</td>\n",
              "    </tr>\n",
              "    <tr>\n",
              "      <th>13</th>\n",
              "      <td>14.</td>\n",
              "      <td>9781449382674</td>\n",
              "      <td>Head first Python / Paul Barry.</td>\n",
              "    </tr>\n",
              "    <tr>\n",
              "      <th>14</th>\n",
              "      <td>15.</td>\n",
              "      <td>9781617293788</td>\n",
              "      <td>Get programming : learn to code with Python / ...</td>\n",
              "    </tr>\n",
              "    <tr>\n",
              "      <th>15</th>\n",
              "      <td>16.</td>\n",
              "      <td>9781492075332</td>\n",
              "      <td>Using Asyncio in Python : understanding Python...</td>\n",
              "    </tr>\n",
              "    <tr>\n",
              "      <th>16</th>\n",
              "      <td>17.</td>\n",
              "      <td>9781119643814</td>\n",
              "      <td>Bite-size Python : an introduction to Python p...</td>\n",
              "    </tr>\n",
              "    <tr>\n",
              "      <th>17</th>\n",
              "      <td>18.</td>\n",
              "      <td>9781484281512</td>\n",
              "      <td>Pragmatic Python programming : learning Python...</td>\n",
              "    </tr>\n",
              "    <tr>\n",
              "      <th>18</th>\n",
              "      <td>19.</td>\n",
              "      <td>9780713482799</td>\n",
              "      <td>Monty Python encyclopedia / Robert Ross.</td>\n",
              "    </tr>\n",
              "    <tr>\n",
              "      <th>19</th>\n",
              "      <td>20.</td>\n",
              "      <td>9780073523378</td>\n",
              "      <td>Exploring Python / Timothy A. Budd.</td>\n",
              "    </tr>\n",
              "    <tr>\n",
              "      <th>20</th>\n",
              "      <td>21.</td>\n",
              "      <td>9781449319793</td>\n",
              "      <td>Python for data analysis / Wes McKinney.</td>\n",
              "    </tr>\n",
              "    <tr>\n",
              "      <th>21</th>\n",
              "      <td>22.</td>\n",
              "      <td>9781449367831</td>\n",
              "      <td>Python and HDF5 / Andrew Collette.</td>\n",
              "    </tr>\n",
              "    <tr>\n",
              "      <th>22</th>\n",
              "      <td>23.</td>\n",
              "      <td>9781449357016</td>\n",
              "      <td>Python pocket reference / Mark Lutz.</td>\n",
              "    </tr>\n",
              "    <tr>\n",
              "      <th>23</th>\n",
              "      <td>24.</td>\n",
              "      <td>9789881443656</td>\n",
              "      <td>Python 3.5 tutorial.</td>\n",
              "    </tr>\n",
              "    <tr>\n",
              "      <th>24</th>\n",
              "      <td>25.</td>\n",
              "      <td>9780134444321</td>\n",
              "      <td>Starting out with Python / Tony Gaddis.</td>\n",
              "    </tr>\n",
              "    <tr>\n",
              "      <th>25</th>\n",
              "      <td>26.</td>\n",
              "      <td>9781509304523</td>\n",
              "      <td>Begin to code with Python / Rob Miles.</td>\n",
              "    </tr>\n",
              "    <tr>\n",
              "      <th>26</th>\n",
              "      <td>27.</td>\n",
              "      <td>9781617294433</td>\n",
              "      <td>Deep learning with Python / François Chollet.</td>\n",
              "    </tr>\n",
              "    <tr>\n",
              "      <th>27</th>\n",
              "      <td>28.</td>\n",
              "      <td>9780134173276</td>\n",
              "      <td>Python distilled / David M. Beazley</td>\n",
              "    </tr>\n",
              "    <tr>\n",
              "      <th>28</th>\n",
              "      <td>29.</td>\n",
              "      <td>9781617298660</td>\n",
              "      <td>Python concurrency with asyncio / Matthew Fowler.</td>\n",
              "    </tr>\n",
              "    <tr>\n",
              "      <th>29</th>\n",
              "      <td>30.</td>\n",
              "      <td>9781617296864</td>\n",
              "      <td>Deep learning with Python / François Chollet.</td>\n",
              "    </tr>\n",
              "  </tbody>\n",
              "</table>\n",
              "</div>\n",
              "      <button class=\"colab-df-convert\" onclick=\"convertToInteractive('df-4cff369d-2dee-4b51-a5f1-da38588651ee')\"\n",
              "              title=\"Convert this dataframe to an interactive table.\"\n",
              "              style=\"display:none;\">\n",
              "        \n",
              "  <svg xmlns=\"http://www.w3.org/2000/svg\" height=\"24px\"viewBox=\"0 0 24 24\"\n",
              "       width=\"24px\">\n",
              "    <path d=\"M0 0h24v24H0V0z\" fill=\"none\"/>\n",
              "    <path d=\"M18.56 5.44l.94 2.06.94-2.06 2.06-.94-2.06-.94-.94-2.06-.94 2.06-2.06.94zm-11 1L8.5 8.5l.94-2.06 2.06-.94-2.06-.94L8.5 2.5l-.94 2.06-2.06.94zm10 10l.94 2.06.94-2.06 2.06-.94-2.06-.94-.94-2.06-.94 2.06-2.06.94z\"/><path d=\"M17.41 7.96l-1.37-1.37c-.4-.4-.92-.59-1.43-.59-.52 0-1.04.2-1.43.59L10.3 9.45l-7.72 7.72c-.78.78-.78 2.05 0 2.83L4 21.41c.39.39.9.59 1.41.59.51 0 1.02-.2 1.41-.59l7.78-7.78 2.81-2.81c.8-.78.8-2.07 0-2.86zM5.41 20L4 18.59l7.72-7.72 1.47 1.35L5.41 20z\"/>\n",
              "  </svg>\n",
              "      </button>\n",
              "      \n",
              "  <style>\n",
              "    .colab-df-container {\n",
              "      display:flex;\n",
              "      flex-wrap:wrap;\n",
              "      gap: 12px;\n",
              "    }\n",
              "\n",
              "    .colab-df-convert {\n",
              "      background-color: #E8F0FE;\n",
              "      border: none;\n",
              "      border-radius: 50%;\n",
              "      cursor: pointer;\n",
              "      display: none;\n",
              "      fill: #1967D2;\n",
              "      height: 32px;\n",
              "      padding: 0 0 0 0;\n",
              "      width: 32px;\n",
              "    }\n",
              "\n",
              "    .colab-df-convert:hover {\n",
              "      background-color: #E2EBFA;\n",
              "      box-shadow: 0px 1px 2px rgba(60, 64, 67, 0.3), 0px 1px 3px 1px rgba(60, 64, 67, 0.15);\n",
              "      fill: #174EA6;\n",
              "    }\n",
              "\n",
              "    [theme=dark] .colab-df-convert {\n",
              "      background-color: #3B4455;\n",
              "      fill: #D2E3FC;\n",
              "    }\n",
              "\n",
              "    [theme=dark] .colab-df-convert:hover {\n",
              "      background-color: #434B5C;\n",
              "      box-shadow: 0px 1px 3px 1px rgba(0, 0, 0, 0.15);\n",
              "      filter: drop-shadow(0px 1px 2px rgba(0, 0, 0, 0.3));\n",
              "      fill: #FFFFFF;\n",
              "    }\n",
              "  </style>\n",
              "\n",
              "      <script>\n",
              "        const buttonEl =\n",
              "          document.querySelector('#df-4cff369d-2dee-4b51-a5f1-da38588651ee button.colab-df-convert');\n",
              "        buttonEl.style.display =\n",
              "          google.colab.kernel.accessAllowed ? 'block' : 'none';\n",
              "\n",
              "        async function convertToInteractive(key) {\n",
              "          const element = document.querySelector('#df-4cff369d-2dee-4b51-a5f1-da38588651ee');\n",
              "          const dataTable =\n",
              "            await google.colab.kernel.invokeFunction('convertToInteractive',\n",
              "                                                     [key], {});\n",
              "          if (!dataTable) return;\n",
              "\n",
              "          const docLinkHtml = 'Like what you see? Visit the ' +\n",
              "            '<a target=\"_blank\" href=https://colab.research.google.com/notebooks/data_table.ipynb>data table notebook</a>'\n",
              "            + ' to learn more about interactive tables.';\n",
              "          element.innerHTML = '';\n",
              "          dataTable['output_type'] = 'display_data';\n",
              "          await google.colab.output.renderOutput(dataTable, element);\n",
              "          const docLink = document.createElement('div');\n",
              "          docLink.innerHTML = docLinkHtml;\n",
              "          element.appendChild(docLink);\n",
              "        }\n",
              "      </script>\n",
              "    </div>\n",
              "  </div>\n",
              "  "
            ]
          },
          "metadata": {},
          "execution_count": 53
        }
      ]
    },
    {
      "cell_type": "markdown",
      "source": [
        "**Exercise:** Split the book name and its author into two columns."
      ],
      "metadata": {
        "id": "akXivlp_Jt-x"
      }
    },
    {
      "cell_type": "code",
      "source": [],
      "metadata": {
        "id": "bVssxRBlJoxF"
      },
      "execution_count": null,
      "outputs": []
    },
    {
      "cell_type": "markdown",
      "source": [
        "# Ref. links"
      ],
      "metadata": {
        "id": "LA7JzKy6NrcD"
      }
    },
    {
      "cell_type": "code",
      "source": [
        "# https://blog.testproject.io/2021/05/06/css-selectors-cheat-sheet/"
      ],
      "metadata": {
        "id": "F8QwfLXhNtsY"
      },
      "execution_count": null,
      "outputs": []
    }
  ]
}